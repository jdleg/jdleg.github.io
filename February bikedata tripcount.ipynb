{
 "metadata": {
  "name": ""
 },
 "nbformat": 3,
 "nbformat_minor": 0,
 "worksheets": [
  {
   "cells": [
    {
     "cell_type": "code",
     "collapsed": false,
     "input": [
      "%matplotlib inline\n",
      "# from pylab import *\n",
      "\n",
      "import matplotlib.pyplot as plt\n",
      "import pandas as pd\n",
      "import numpy as np\n",
      "\n",
      "from collections import Counter\n",
      "import dateutil.parser as dateparser"
     ],
     "language": "python",
     "metadata": {},
     "outputs": [],
     "prompt_number": 3
    },
    {
     "cell_type": "code",
     "collapsed": false,
     "input": [
      "# READ IN BIKEDATA FILES \n",
      "bikedata0713 = pd.read_csv('Bikedata/bikedata0713.csv', delimiter=',')\n",
      "bikedata0813 = pd.read_csv('Bikedata/bikedata0813.csv', delimiter=',')\n",
      "bikedata0913 = pd.read_csv('Bikedata/bikedata0913.csv', delimiter=',')\n",
      "bikedata1013 = pd.read_csv('Bikedata/bikedata1013.csv', delimiter=',')\n",
      "bikedata1113 = pd.read_csv('Bikedata/bikedata1113.csv', delimiter=',')\n",
      "bikedata1213 = pd.read_csv('Bikedata/bikedata1213.csv', delimiter=',')\n",
      "bikedata0114 = pd.read_csv('Bikedata/bikedata0114.csv', delimiter=',')\n",
      "bikedata0214 = pd.read_csv('Bikedata/bikedata0214.csv', delimiter=',')"
     ],
     "language": "python",
     "metadata": {},
     "outputs": [],
     "prompt_number": 3
    },
    {
     "cell_type": "code",
     "collapsed": false,
     "input": [
      "# RENAME DATA FRAME COLUMNS\n",
      "def renamebikecolumns(bikeframe):\n",
      "    bikeframe.rename(columns = {'tripduration': 'duration',\n",
      "                           'starttime': 'start',\n",
      "                           'stoptime': 'stop',\n",
      "                           'start station id': 'startid',\n",
      "                           'start station name': 'startname', \n",
      "                           'start station latitude': 'startlat',\n",
      "                           'start station longitude': 'startlong', \n",
      "                           'end station id': 'endid',\n",
      "                           'end station name': 'endname',\n",
      "                           'end station latitude': 'endlat',\n",
      "                           'end station longitude': 'endlong',\n",
      "                           'bikeid': 'bikeid',\n",
      "                           'usertype': 'usertype',\n",
      "                           'birth year': 'birthyr',\n",
      "                           'gender': 'gender'}\n",
      "                , inplace=True)\n",
      "    return bikeframe\n",
      "\n",
      "# RUN ONE AT A TIME TO PRESERVE MEMORY\n",
      "renamebikecolumns(bikedata0813)\n",
      "renamebikecolumns(bikedata0913)\n",
      "renamebikecolumns(bikedata1013)\n",
      "renamebikecolumns(bikedata1113)\n",
      "renamebikecolumns(bikedata1213)\n",
      "renamebikecolumns(bikedata0114)\n",
      "renamebikecolumns(bikedata0214)\n",
      "renamebikecolumns(bikedata0713)"
     ],
     "language": "python",
     "metadata": {},
     "outputs": [],
     "prompt_number": 201
    },
    {
     "cell_type": "raw",
     "metadata": {},
     "source": [
      "Fullstation automates calling of a couple of functions that previously had to be run in order. "
     ]
    },
    {
     "cell_type": "code",
     "collapsed": false,
     "input": [
      "def fullstation(stationid, tripfile):\n",
      "    stationstart, stationend = stationframes(tripfile, stationid)\n",
      "    countsmatrixstart, countsmatrixend = countsmatrixcreate(stationstart, stationend)\n",
      "    countsmatrixtot = countsmatrixend-countsmatrixstart  # Could include in countsmatrixcreate\n",
      "    return countsmatrixstart, countsmatrixend, countsmatrixtot\n",
      "\n",
      "# startmatrix519, endmatrix519, totmatrix519 = fullstation(519, bikedata2wks)\n",
      "\n",
      "\"\"\" (fullstation automates these)\n",
      "    FIRST CALL STATIONFRAMES:  \n",
      "    stationstartframename, stationendframename = stationframes(allstationframe, stationid#)\n",
      "    start519, end519 = stationframes(bikedataweek1, 519)\n",
      "    THEN CALL COUNTSMATRIXCREATE: \n",
      "    countsmatrixstartname, countsmatrixendname = countsmatrixcreate(stationstartframe, stationendrame)\n",
      "    countsmatrix519start, countsmatrix519end = countsmatrixcreate(start519, end519)\n",
      "    COUNTSMATRIX CALLS HOURCOUNT TO GENERATE 24X7 MATRICES\n",
      "    \n",
      "    ADJUST HOURCOUNT TO COVER TIMESPANS OTHER THAN HOURS\"\"\"\n",
      "\n",
      "\"\"\" Given a data frame, plus weekday codes (0 to 6) and hours (0 to 23),\n",
      "hourcount calculates the number of rides that took place in a given hour.\"\"\"\n",
      "\n",
      "def hourcount(framename, weekday, hour):\n",
      "    ridecount = 0\n",
      "    date = 0\n",
      "    weekdaycount = 0\n",
      "    rate = 0.00\n",
      "    for x in framename.index:\n",
      "          if dateparser.parse(framename.start[x]).weekday()==weekday:\n",
      "            if dateparser.parse(framename.start[x]).hour==hour:\n",
      "                newdate = dateparser.parse(framename.start[x]).day\n",
      "                if newdate != date:\n",
      "                    date = newdate\n",
      "                    weekdaycount = weekdaycount + 1\n",
      "                ridecount = ridecount + 1\n",
      "    if weekdaycount > 0:\n",
      "        rate = float(ridecount)/float(weekdaycount)\n",
      "    else:\n",
      "        rate = 0.0\n",
      "    print rate\n",
      "    return rate\n",
      "\n",
      "\"\"\" The stationframes function creates two data frames per station id per trip file.\n",
      "Unwieldy true, but cool. For just starting and stopping counts, \n",
      "mere integers (rather than data frames) would suffice. \"\"\"\n",
      "\n",
      "def stationframes(mainframe, stationid):\n",
      "    startframe = mainframe[mainframe.startid==stationid]\n",
      "    endframe = mainframe[mainframe.endid==stationid]\n",
      "    return startframe, endframe\n",
      "\n",
      "def countsmatrixcreate(stationstartframe, stationendframe):\n",
      "    countsmatrixstart = np.zeros((7, 24))\n",
      "    countsmatrixend = np.zeros((7,24))\n",
      "    for x in range(0,6):\n",
      "        for y in range(0,23):\n",
      "            countsmatrixstart[x][y] = hourcount(stationstartframe,x,y)\n",
      "            countsmatrixend[x][y] = hourcount(stationendframe,x,y)\n",
      "    return countsmatrixstart, countsmatrixend"
     ],
     "language": "python",
     "metadata": {},
     "outputs": [],
     "prompt_number": 1
    },
    {
     "cell_type": "code",
     "collapsed": false,
     "input": [
      "#bikedata1013 = pd.read_csv('Bikedata/bikedata1013.csv', delimiter=',')\n",
      "#comingsandgoings = pd.read_csv('Bikedata/comingsandgoings.csv', delimiter=',')\n",
      "#Augcomingsandgoings = pd.read_csv('Bikedata/Backup/Augcomingsandgoings.csv', delimiter=',')\n",
      "Octcomingsandgoings = pd.read_csv('Bikedata/Backup/Octcomingsandgoings.csv', delimiter=',')\n",
      "Augcomingsandgoings.to_csv('Bikedata/Backup/Augcomingsandgoings.csv', delimiter=',')"
     ],
     "language": "python",
     "metadata": {},
     "outputs": []
    },
    {
     "cell_type": "code",
     "collapsed": false,
     "input": [
      "#bikedata2wks = pd.read_csv('Bikedata/bikedata2wks.csv', index_col=0) # reading it from file\n",
      "#sm119, em119, tm119 = fullstation(119, bikedata2wks)\n",
      "#sm407Oct, em407Oct, tm407 = fullstation(407, bikedata1013)\n",
      "sm519Oct, em519Oct, tm519 = fullstation(519, bikedata1013)\n",
      "sm2021Oct, em2021Oct, tm2021 = fullstation(2021, bikedata1013)"
     ],
     "language": "python",
     "metadata": {},
     "outputs": [
      {
       "output_type": "stream",
       "stream": "stdout",
       "text": [
        "2.0\n",
        "1.0"
       ]
      },
      {
       "output_type": "stream",
       "stream": "stdout",
       "text": [
        "\n",
        "1.0"
       ]
      },
      {
       "output_type": "stream",
       "stream": "stdout",
       "text": [
        "\n",
        "1.0"
       ]
      },
      {
       "output_type": "stream",
       "stream": "stdout",
       "text": [
        "\n",
        "1.33333333333"
       ]
      },
      {
       "output_type": "stream",
       "stream": "stdout",
       "text": [
        "\n",
        "1.0"
       ]
      },
      {
       "output_type": "stream",
       "stream": "stdout",
       "text": [
        "\n",
        "1.0"
       ]
      },
      {
       "output_type": "stream",
       "stream": "stdout",
       "text": [
        "\n",
        "0.0"
       ]
      },
      {
       "output_type": "stream",
       "stream": "stdout",
       "text": [
        "\n",
        "0.0"
       ]
      },
      {
       "output_type": "stream",
       "stream": "stdout",
       "text": [
        "\n",
        "1.0"
       ]
      },
      {
       "output_type": "stream",
       "stream": "stdout",
       "text": [
        "\n",
        "3.5"
       ]
      },
      {
       "output_type": "stream",
       "stream": "stdout",
       "text": [
        "\n",
        "2.75"
       ]
      },
      {
       "output_type": "stream",
       "stream": "stdout",
       "text": [
        "\n",
        "9.25"
       ]
      },
      {
       "output_type": "stream",
       "stream": "stdout",
       "text": [
        "\n",
        "10.5"
       ]
      },
      {
       "output_type": "stream",
       "stream": "stdout",
       "text": [
        "\n",
        "36.25"
       ]
      },
      {
       "output_type": "stream",
       "stream": "stdout",
       "text": [
        "\n",
        "28.25"
       ]
      },
      {
       "output_type": "stream",
       "stream": "stdout",
       "text": [
        "\n",
        "43.75"
       ]
      },
      {
       "output_type": "stream",
       "stream": "stdout",
       "text": [
        "\n",
        "27.5"
       ]
      },
      {
       "output_type": "stream",
       "stream": "stdout",
       "text": [
        "\n",
        "29.75"
       ]
      },
      {
       "output_type": "stream",
       "stream": "stdout",
       "text": [
        "\n",
        "20.0"
       ]
      },
      {
       "output_type": "stream",
       "stream": "stdout",
       "text": [
        "\n",
        "6.75"
       ]
      },
      {
       "output_type": "stream",
       "stream": "stdout",
       "text": [
        "\n",
        "6.0"
       ]
      },
      {
       "output_type": "stream",
       "stream": "stdout",
       "text": [
        "\n",
        "8.0"
       ]
      },
      {
       "output_type": "stream",
       "stream": "stdout",
       "text": [
        "\n",
        "11.5"
       ]
      },
      {
       "output_type": "stream",
       "stream": "stdout",
       "text": [
        "\n",
        "6.0"
       ]
      },
      {
       "output_type": "stream",
       "stream": "stdout",
       "text": [
        "\n",
        "7.75"
       ]
      },
      {
       "output_type": "stream",
       "stream": "stdout",
       "text": [
        "\n",
        "10.75"
       ]
      },
      {
       "output_type": "stream",
       "stream": "stdout",
       "text": [
        "\n",
        "11.75"
       ]
      },
      {
       "output_type": "stream",
       "stream": "stdout",
       "text": [
        "\n",
        "10.25"
       ]
      },
      {
       "output_type": "stream",
       "stream": "stdout",
       "text": [
        "\n",
        "13.25"
       ]
      },
      {
       "output_type": "stream",
       "stream": "stdout",
       "text": [
        "\n",
        "9.5"
       ]
      },
      {
       "output_type": "stream",
       "stream": "stdout",
       "text": [
        "\n",
        "13.0"
       ]
      },
      {
       "output_type": "stream",
       "stream": "stdout",
       "text": [
        "\n",
        "13.75"
       ]
      },
      {
       "output_type": "stream",
       "stream": "stdout",
       "text": [
        "\n",
        "19.25"
       ]
      },
      {
       "output_type": "stream",
       "stream": "stdout",
       "text": [
        "\n",
        "55.75"
       ]
      },
      {
       "output_type": "stream",
       "stream": "stdout",
       "text": [
        "\n",
        "53.75"
       ]
      },
      {
       "output_type": "stream",
       "stream": "stdout",
       "text": [
        "\n",
        "67.75"
       ]
      },
      {
       "output_type": "stream",
       "stream": "stdout",
       "text": [
        "\n",
        "44.0"
       ]
      },
      {
       "output_type": "stream",
       "stream": "stdout",
       "text": [
        "\n",
        "23.25"
       ]
      },
      {
       "output_type": "stream",
       "stream": "stdout",
       "text": [
        "\n",
        "14.25"
       ]
      },
      {
       "output_type": "stream",
       "stream": "stdout",
       "text": [
        "\n",
        "7.75"
       ]
      },
      {
       "output_type": "stream",
       "stream": "stdout",
       "text": [
        "\n",
        "6.75"
       ]
      },
      {
       "output_type": "stream",
       "stream": "stdout",
       "text": [
        "\n",
        "5.0"
       ]
      },
      {
       "output_type": "stream",
       "stream": "stdout",
       "text": [
        "\n",
        "5.25"
       ]
      },
      {
       "output_type": "stream",
       "stream": "stdout",
       "text": [
        "\n",
        "4.5"
       ]
      },
      {
       "output_type": "stream",
       "stream": "stdout",
       "text": [
        "\n",
        "2.66666666667"
       ]
      },
      {
       "output_type": "stream",
       "stream": "stdout",
       "text": [
        "\n",
        "1.0"
       ]
      },
      {
       "output_type": "stream",
       "stream": "stdout",
       "text": [
        "\n",
        "2.0"
       ]
      },
      {
       "output_type": "stream",
       "stream": "stdout",
       "text": [
        "\n",
        "3.0"
       ]
      },
      {
       "output_type": "stream",
       "stream": "stdout",
       "text": [
        "\n",
        "0.0"
       ]
      },
      {
       "output_type": "stream",
       "stream": "stdout",
       "text": [
        "\n",
        "1.0"
       ]
      },
      {
       "output_type": "stream",
       "stream": "stdout",
       "text": [
        "\n",
        "0.0"
       ]
      },
      {
       "output_type": "stream",
       "stream": "stdout",
       "text": [
        "\n",
        "1.0"
       ]
      },
      {
       "output_type": "stream",
       "stream": "stdout",
       "text": [
        "\n",
        "0.0"
       ]
      },
      {
       "output_type": "stream",
       "stream": "stdout",
       "text": [
        "\n",
        "0.0"
       ]
      },
      {
       "output_type": "stream",
       "stream": "stdout",
       "text": [
        "\n",
        "1.0"
       ]
      },
      {
       "output_type": "stream",
       "stream": "stdout",
       "text": [
        "\n",
        "3.2"
       ]
      },
      {
       "output_type": "stream",
       "stream": "stdout",
       "text": [
        "\n",
        "4.0"
       ]
      },
      {
       "output_type": "stream",
       "stream": "stdout",
       "text": [
        "\n",
        "12.8"
       ]
      },
      {
       "output_type": "stream",
       "stream": "stdout",
       "text": [
        "\n",
        "13.6"
       ]
      },
      {
       "output_type": "stream",
       "stream": "stdout",
       "text": [
        "\n",
        "49.2"
       ]
      },
      {
       "output_type": "stream",
       "stream": "stdout",
       "text": [
        "\n",
        "30.0"
       ]
      },
      {
       "output_type": "stream",
       "stream": "stdout",
       "text": [
        "\n",
        "53.6"
       ]
      },
      {
       "output_type": "stream",
       "stream": "stdout",
       "text": [
        "\n",
        "40.4"
       ]
      },
      {
       "output_type": "stream",
       "stream": "stdout",
       "text": [
        "\n",
        "30.0"
       ]
      },
      {
       "output_type": "stream",
       "stream": "stdout",
       "text": [
        "\n",
        "23.2"
       ]
      },
      {
       "output_type": "stream",
       "stream": "stdout",
       "text": [
        "\n",
        "10.0"
       ]
      },
      {
       "output_type": "stream",
       "stream": "stdout",
       "text": [
        "\n",
        "7.2"
       ]
      },
      {
       "output_type": "stream",
       "stream": "stdout",
       "text": [
        "\n",
        "9.2"
       ]
      },
      {
       "output_type": "stream",
       "stream": "stdout",
       "text": [
        "\n",
        "10.2"
       ]
      },
      {
       "output_type": "stream",
       "stream": "stdout",
       "text": [
        "\n",
        "13.8"
       ]
      },
      {
       "output_type": "stream",
       "stream": "stdout",
       "text": [
        "\n",
        "9.4"
       ]
      },
      {
       "output_type": "stream",
       "stream": "stdout",
       "text": [
        "\n",
        "8.8"
       ]
      },
      {
       "output_type": "stream",
       "stream": "stdout",
       "text": [
        "\n",
        "10.4"
       ]
      },
      {
       "output_type": "stream",
       "stream": "stdout",
       "text": [
        "\n",
        "10.6"
       ]
      },
      {
       "output_type": "stream",
       "stream": "stdout",
       "text": [
        "\n",
        "11.2"
       ]
      },
      {
       "output_type": "stream",
       "stream": "stdout",
       "text": [
        "\n",
        "12.2"
       ]
      },
      {
       "output_type": "stream",
       "stream": "stdout",
       "text": [
        "\n",
        "19.4"
       ]
      },
      {
       "output_type": "stream",
       "stream": "stdout",
       "text": [
        "\n",
        "26.0"
       ]
      },
      {
       "output_type": "stream",
       "stream": "stdout",
       "text": [
        "\n",
        "29.8"
       ]
      },
      {
       "output_type": "stream",
       "stream": "stdout",
       "text": [
        "\n",
        "72.6"
       ]
      },
      {
       "output_type": "stream",
       "stream": "stdout",
       "text": [
        "\n",
        "68.0"
       ]
      },
      {
       "output_type": "stream",
       "stream": "stdout",
       "text": [
        "\n",
        "87.0"
       ]
      },
      {
       "output_type": "stream",
       "stream": "stdout",
       "text": [
        "\n",
        "49.6"
       ]
      },
      {
       "output_type": "stream",
       "stream": "stdout",
       "text": [
        "\n",
        "38.4"
       ]
      },
      {
       "output_type": "stream",
       "stream": "stdout",
       "text": [
        "\n",
        "24.2"
       ]
      },
      {
       "output_type": "stream",
       "stream": "stdout",
       "text": [
        "\n",
        "13.4"
       ]
      },
      {
       "output_type": "stream",
       "stream": "stdout",
       "text": [
        "\n",
        "10.8"
       ]
      },
      {
       "output_type": "stream",
       "stream": "stdout",
       "text": [
        "\n",
        "10.6"
       ]
      },
      {
       "output_type": "stream",
       "stream": "stdout",
       "text": [
        "\n",
        "7.6"
       ]
      },
      {
       "output_type": "stream",
       "stream": "stdout",
       "text": [
        "\n",
        "5.4"
       ]
      },
      {
       "output_type": "stream",
       "stream": "stdout",
       "text": [
        "\n",
        "4.2"
       ]
      },
      {
       "output_type": "stream",
       "stream": "stdout",
       "text": [
        "\n",
        "2.25"
       ]
      },
      {
       "output_type": "stream",
       "stream": "stdout",
       "text": [
        "\n",
        "1.75"
       ]
      },
      {
       "output_type": "stream",
       "stream": "stdout",
       "text": [
        "\n",
        "2.5"
       ]
      },
      {
       "output_type": "stream",
       "stream": "stdout",
       "text": [
        "\n",
        "1.5"
       ]
      },
      {
       "output_type": "stream",
       "stream": "stdout",
       "text": [
        "\n",
        "1.75"
       ]
      },
      {
       "output_type": "stream",
       "stream": "stdout",
       "text": [
        "\n",
        "1.0"
       ]
      },
      {
       "output_type": "stream",
       "stream": "stdout",
       "text": [
        "\n",
        "1.0"
       ]
      },
      {
       "output_type": "stream",
       "stream": "stdout",
       "text": [
        "\n",
        "0.0"
       ]
      },
      {
       "output_type": "stream",
       "stream": "stdout",
       "text": [
        "\n",
        "1.0"
       ]
      },
      {
       "output_type": "stream",
       "stream": "stdout",
       "text": [
        "\n",
        "1.0"
       ]
      },
      {
       "output_type": "stream",
       "stream": "stdout",
       "text": [
        "\n",
        "2.4"
       ]
      },
      {
       "output_type": "stream",
       "stream": "stdout",
       "text": [
        "\n",
        "4.8"
       ]
      },
      {
       "output_type": "stream",
       "stream": "stdout",
       "text": [
        "\n",
        "14.4"
       ]
      },
      {
       "output_type": "stream",
       "stream": "stdout",
       "text": [
        "\n",
        "16.4"
       ]
      },
      {
       "output_type": "stream",
       "stream": "stdout",
       "text": [
        "\n",
        "45.6"
       ]
      },
      {
       "output_type": "stream",
       "stream": "stdout",
       "text": [
        "\n",
        "27.4"
       ]
      },
      {
       "output_type": "stream",
       "stream": "stdout",
       "text": [
        "\n",
        "52.4"
       ]
      },
      {
       "output_type": "stream",
       "stream": "stdout",
       "text": [
        "\n",
        "34.2"
       ]
      },
      {
       "output_type": "stream",
       "stream": "stdout",
       "text": [
        "\n",
        "32.4"
       ]
      },
      {
       "output_type": "stream",
       "stream": "stdout",
       "text": [
        "\n",
        "22.8"
       ]
      },
      {
       "output_type": "stream",
       "stream": "stdout",
       "text": [
        "\n",
        "11.0"
       ]
      },
      {
       "output_type": "stream",
       "stream": "stdout",
       "text": [
        "\n",
        "9.6"
       ]
      },
      {
       "output_type": "stream",
       "stream": "stdout",
       "text": [
        "\n",
        "8.8"
       ]
      },
      {
       "output_type": "stream",
       "stream": "stdout",
       "text": [
        "\n",
        "9.6"
       ]
      },
      {
       "output_type": "stream",
       "stream": "stdout",
       "text": [
        "\n",
        "13.0"
       ]
      },
      {
       "output_type": "stream",
       "stream": "stdout",
       "text": [
        "\n",
        "11.8"
       ]
      },
      {
       "output_type": "stream",
       "stream": "stdout",
       "text": [
        "\n",
        "8.2"
       ]
      },
      {
       "output_type": "stream",
       "stream": "stdout",
       "text": [
        "\n",
        "11.0"
       ]
      },
      {
       "output_type": "stream",
       "stream": "stdout",
       "text": [
        "\n",
        "11.6"
       ]
      },
      {
       "output_type": "stream",
       "stream": "stdout",
       "text": [
        "\n",
        "13.4"
       ]
      },
      {
       "output_type": "stream",
       "stream": "stdout",
       "text": [
        "\n",
        "12.4"
       ]
      },
      {
       "output_type": "stream",
       "stream": "stdout",
       "text": [
        "\n",
        "15.2"
       ]
      },
      {
       "output_type": "stream",
       "stream": "stdout",
       "text": [
        "\n",
        "16.8"
       ]
      },
      {
       "output_type": "stream",
       "stream": "stdout",
       "text": [
        "\n",
        "23.4"
       ]
      },
      {
       "output_type": "stream",
       "stream": "stdout",
       "text": [
        "\n",
        "91.2"
       ]
      },
      {
       "output_type": "stream",
       "stream": "stdout",
       "text": [
        "\n",
        "68.4"
       ]
      },
      {
       "output_type": "stream",
       "stream": "stdout",
       "text": [
        "\n",
        "77.4"
       ]
      },
      {
       "output_type": "stream",
       "stream": "stdout",
       "text": [
        "\n",
        "41.8"
       ]
      },
      {
       "output_type": "stream",
       "stream": "stdout",
       "text": [
        "\n",
        "34.8"
       ]
      },
      {
       "output_type": "stream",
       "stream": "stdout",
       "text": [
        "\n",
        "15.4"
       ]
      },
      {
       "output_type": "stream",
       "stream": "stdout",
       "text": [
        "\n",
        "18.8"
       ]
      },
      {
       "output_type": "stream",
       "stream": "stdout",
       "text": [
        "\n",
        "10.0"
       ]
      },
      {
       "output_type": "stream",
       "stream": "stdout",
       "text": [
        "\n",
        "8.8"
       ]
      },
      {
       "output_type": "stream",
       "stream": "stdout",
       "text": [
        "\n",
        "5.25"
       ]
      },
      {
       "output_type": "stream",
       "stream": "stdout",
       "text": [
        "\n",
        "5.2"
       ]
      },
      {
       "output_type": "stream",
       "stream": "stdout",
       "text": [
        "\n",
        "5.4"
       ]
      },
      {
       "output_type": "stream",
       "stream": "stdout",
       "text": [
        "\n",
        "2.5"
       ]
      },
      {
       "output_type": "stream",
       "stream": "stdout",
       "text": [
        "\n",
        "1.33333333333"
       ]
      },
      {
       "output_type": "stream",
       "stream": "stdout",
       "text": [
        "\n",
        "1.33333333333"
       ]
      },
      {
       "output_type": "stream",
       "stream": "stdout",
       "text": [
        "\n",
        "1.0"
       ]
      },
      {
       "output_type": "stream",
       "stream": "stdout",
       "text": [
        "\n",
        "2.0"
       ]
      },
      {
       "output_type": "stream",
       "stream": "stdout",
       "text": [
        "\n",
        "1.0"
       ]
      },
      {
       "output_type": "stream",
       "stream": "stdout",
       "text": [
        "\n",
        "1.66666666667"
       ]
      },
      {
       "output_type": "stream",
       "stream": "stdout",
       "text": [
        "\n",
        "1.0"
       ]
      },
      {
       "output_type": "stream",
       "stream": "stdout",
       "text": [
        "\n",
        "0.0"
       ]
      },
      {
       "output_type": "stream",
       "stream": "stdout",
       "text": [
        "\n",
        "1.0"
       ]
      },
      {
       "output_type": "stream",
       "stream": "stdout",
       "text": [
        "\n",
        "3.6"
       ]
      },
      {
       "output_type": "stream",
       "stream": "stdout",
       "text": [
        "\n",
        "3.4"
       ]
      },
      {
       "output_type": "stream",
       "stream": "stdout",
       "text": [
        "\n",
        "9.4"
       ]
      },
      {
       "output_type": "stream",
       "stream": "stdout",
       "text": [
        "\n",
        "12.8"
       ]
      },
      {
       "output_type": "stream",
       "stream": "stdout",
       "text": [
        "\n",
        "35.8"
       ]
      },
      {
       "output_type": "stream",
       "stream": "stdout",
       "text": [
        "\n",
        "28.2"
       ]
      },
      {
       "output_type": "stream",
       "stream": "stdout",
       "text": [
        "\n",
        "56.4"
       ]
      },
      {
       "output_type": "stream",
       "stream": "stdout",
       "text": [
        "\n",
        "33.2"
       ]
      },
      {
       "output_type": "stream",
       "stream": "stdout",
       "text": [
        "\n",
        "31.0"
       ]
      },
      {
       "output_type": "stream",
       "stream": "stdout",
       "text": [
        "\n",
        "24.6"
       ]
      },
      {
       "output_type": "stream",
       "stream": "stdout",
       "text": [
        "\n",
        "13.6"
       ]
      },
      {
       "output_type": "stream",
       "stream": "stdout",
       "text": [
        "\n",
        "9.4"
       ]
      },
      {
       "output_type": "stream",
       "stream": "stdout",
       "text": [
        "\n",
        "9.8"
       ]
      },
      {
       "output_type": "stream",
       "stream": "stdout",
       "text": [
        "\n",
        "10.2"
       ]
      },
      {
       "output_type": "stream",
       "stream": "stdout",
       "text": [
        "\n",
        "13.8"
       ]
      },
      {
       "output_type": "stream",
       "stream": "stdout",
       "text": [
        "\n",
        "10.0"
       ]
      },
      {
       "output_type": "stream",
       "stream": "stdout",
       "text": [
        "\n",
        "10.0"
       ]
      },
      {
       "output_type": "stream",
       "stream": "stdout",
       "text": [
        "\n",
        "9.6"
       ]
      },
      {
       "output_type": "stream",
       "stream": "stdout",
       "text": [
        "\n",
        "10.6"
       ]
      },
      {
       "output_type": "stream",
       "stream": "stdout",
       "text": [
        "\n",
        "14.6"
       ]
      },
      {
       "output_type": "stream",
       "stream": "stdout",
       "text": [
        "\n",
        "14.0"
       ]
      },
      {
       "output_type": "stream",
       "stream": "stdout",
       "text": [
        "\n",
        "18.2"
       ]
      },
      {
       "output_type": "stream",
       "stream": "stdout",
       "text": [
        "\n",
        "24.0"
       ]
      },
      {
       "output_type": "stream",
       "stream": "stdout",
       "text": [
        "\n",
        "34.0"
       ]
      },
      {
       "output_type": "stream",
       "stream": "stdout",
       "text": [
        "\n",
        "81.4"
       ]
      },
      {
       "output_type": "stream",
       "stream": "stdout",
       "text": [
        "\n",
        "61.6"
       ]
      },
      {
       "output_type": "stream",
       "stream": "stdout",
       "text": [
        "\n",
        "68.4"
       ]
      },
      {
       "output_type": "stream",
       "stream": "stdout",
       "text": [
        "\n",
        "37.4"
       ]
      },
      {
       "output_type": "stream",
       "stream": "stdout",
       "text": [
        "\n",
        "22.4"
       ]
      },
      {
       "output_type": "stream",
       "stream": "stdout",
       "text": [
        "\n",
        "17.6"
       ]
      },
      {
       "output_type": "stream",
       "stream": "stdout",
       "text": [
        "\n",
        "16.0"
       ]
      },
      {
       "output_type": "stream",
       "stream": "stdout",
       "text": [
        "\n",
        "8.6"
       ]
      },
      {
       "output_type": "stream",
       "stream": "stdout",
       "text": [
        "\n",
        "11.2"
       ]
      },
      {
       "output_type": "stream",
       "stream": "stdout",
       "text": [
        "\n",
        "7.4"
       ]
      },
      {
       "output_type": "stream",
       "stream": "stdout",
       "text": [
        "\n",
        "7.6"
       ]
      },
      {
       "output_type": "stream",
       "stream": "stdout",
       "text": [
        "\n",
        "4.0"
       ]
      },
      {
       "output_type": "stream",
       "stream": "stdout",
       "text": [
        "\n",
        "2.0"
       ]
      },
      {
       "output_type": "stream",
       "stream": "stdout",
       "text": [
        "\n",
        "1.75"
       ]
      },
      {
       "output_type": "stream",
       "stream": "stdout",
       "text": [
        "\n",
        "2.75"
       ]
      },
      {
       "output_type": "stream",
       "stream": "stdout",
       "text": [
        "\n",
        "1.5"
       ]
      },
      {
       "output_type": "stream",
       "stream": "stdout",
       "text": [
        "\n",
        "3.0"
       ]
      },
      {
       "output_type": "stream",
       "stream": "stdout",
       "text": [
        "\n",
        "0.0"
       ]
      },
      {
       "output_type": "stream",
       "stream": "stdout",
       "text": [
        "\n",
        "0.0"
       ]
      },
      {
       "output_type": "stream",
       "stream": "stdout",
       "text": [
        "\n",
        "0.0"
       ]
      },
      {
       "output_type": "stream",
       "stream": "stdout",
       "text": [
        "\n",
        "0.0"
       ]
      },
      {
       "output_type": "stream",
       "stream": "stdout",
       "text": [
        "\n",
        "0.0"
       ]
      },
      {
       "output_type": "stream",
       "stream": "stdout",
       "text": [
        "\n",
        "2.75"
       ]
      },
      {
       "output_type": "stream",
       "stream": "stdout",
       "text": [
        "\n",
        "3.0"
       ]
      },
      {
       "output_type": "stream",
       "stream": "stdout",
       "text": [
        "\n",
        "17.25"
       ]
      },
      {
       "output_type": "stream",
       "stream": "stdout",
       "text": [
        "\n",
        "14.25"
       ]
      },
      {
       "output_type": "stream",
       "stream": "stdout",
       "text": [
        "\n",
        "39.25"
       ]
      },
      {
       "output_type": "stream",
       "stream": "stdout",
       "text": [
        "\n",
        "24.75"
       ]
      },
      {
       "output_type": "stream",
       "stream": "stdout",
       "text": [
        "\n",
        "50.25"
       ]
      },
      {
       "output_type": "stream",
       "stream": "stdout",
       "text": [
        "\n",
        "33.75"
       ]
      },
      {
       "output_type": "stream",
       "stream": "stdout",
       "text": [
        "\n",
        "35.0"
       ]
      },
      {
       "output_type": "stream",
       "stream": "stdout",
       "text": [
        "\n",
        "23.25"
       ]
      },
      {
       "output_type": "stream",
       "stream": "stdout",
       "text": [
        "\n",
        "9.25"
       ]
      },
      {
       "output_type": "stream",
       "stream": "stdout",
       "text": [
        "\n",
        "10.5"
       ]
      },
      {
       "output_type": "stream",
       "stream": "stdout",
       "text": [
        "\n",
        "9.5"
       ]
      },
      {
       "output_type": "stream",
       "stream": "stdout",
       "text": [
        "\n",
        "11.25"
       ]
      },
      {
       "output_type": "stream",
       "stream": "stdout",
       "text": [
        "\n",
        "10.25"
       ]
      },
      {
       "output_type": "stream",
       "stream": "stdout",
       "text": [
        "\n",
        "7.0"
       ]
      },
      {
       "output_type": "stream",
       "stream": "stdout",
       "text": [
        "\n",
        "12.0"
       ]
      },
      {
       "output_type": "stream",
       "stream": "stdout",
       "text": [
        "\n",
        "12.0"
       ]
      },
      {
       "output_type": "stream",
       "stream": "stdout",
       "text": [
        "\n",
        "11.75"
       ]
      },
      {
       "output_type": "stream",
       "stream": "stdout",
       "text": [
        "\n",
        "15.25"
       ]
      },
      {
       "output_type": "stream",
       "stream": "stdout",
       "text": [
        "\n",
        "18.5"
       ]
      },
      {
       "output_type": "stream",
       "stream": "stdout",
       "text": [
        "\n",
        "18.75"
       ]
      },
      {
       "output_type": "stream",
       "stream": "stdout",
       "text": [
        "\n",
        "40.0"
       ]
      },
      {
       "output_type": "stream",
       "stream": "stdout",
       "text": [
        "\n",
        "38.75"
       ]
      },
      {
       "output_type": "stream",
       "stream": "stdout",
       "text": [
        "\n",
        "89.75"
       ]
      },
      {
       "output_type": "stream",
       "stream": "stdout",
       "text": [
        "\n",
        "56.25"
       ]
      },
      {
       "output_type": "stream",
       "stream": "stdout",
       "text": [
        "\n",
        "56.25"
       ]
      },
      {
       "output_type": "stream",
       "stream": "stdout",
       "text": [
        "\n",
        "29.25"
       ]
      },
      {
       "output_type": "stream",
       "stream": "stdout",
       "text": [
        "\n",
        "21.5"
       ]
      },
      {
       "output_type": "stream",
       "stream": "stdout",
       "text": [
        "\n",
        "13.25"
       ]
      },
      {
       "output_type": "stream",
       "stream": "stdout",
       "text": [
        "\n",
        "8.0"
       ]
      },
      {
       "output_type": "stream",
       "stream": "stdout",
       "text": [
        "\n",
        "4.5"
       ]
      },
      {
       "output_type": "stream",
       "stream": "stdout",
       "text": [
        "\n",
        "7.25"
       ]
      },
      {
       "output_type": "stream",
       "stream": "stdout",
       "text": [
        "\n",
        "4.33333333333"
       ]
      },
      {
       "output_type": "stream",
       "stream": "stdout",
       "text": [
        "\n",
        "7.0"
       ]
      },
      {
       "output_type": "stream",
       "stream": "stdout",
       "text": [
        "\n",
        "2.25"
       ]
      },
      {
       "output_type": "stream",
       "stream": "stdout",
       "text": [
        "\n",
        "2.75"
       ]
      },
      {
       "output_type": "stream",
       "stream": "stdout",
       "text": [
        "\n",
        "4.0"
       ]
      },
      {
       "output_type": "stream",
       "stream": "stdout",
       "text": [
        "\n",
        "2.0"
       ]
      },
      {
       "output_type": "stream",
       "stream": "stdout",
       "text": [
        "\n",
        "1.66666666667"
       ]
      },
      {
       "output_type": "stream",
       "stream": "stdout",
       "text": [
        "\n",
        "2.0"
       ]
      },
      {
       "output_type": "stream",
       "stream": "stdout",
       "text": [
        "\n",
        "1.0"
       ]
      },
      {
       "output_type": "stream",
       "stream": "stdout",
       "text": [
        "\n",
        "1.33333333333"
       ]
      },
      {
       "output_type": "stream",
       "stream": "stdout",
       "text": [
        "\n",
        "1.0"
       ]
      },
      {
       "output_type": "stream",
       "stream": "stdout",
       "text": [
        "\n",
        "0.0"
       ]
      },
      {
       "output_type": "stream",
       "stream": "stdout",
       "text": [
        "\n",
        "0.0"
       ]
      },
      {
       "output_type": "stream",
       "stream": "stdout",
       "text": [
        "\n",
        "1.0"
       ]
      },
      {
       "output_type": "stream",
       "stream": "stdout",
       "text": [
        "\n",
        "1.0"
       ]
      },
      {
       "output_type": "stream",
       "stream": "stdout",
       "text": [
        "\n",
        "1.66666666667"
       ]
      },
      {
       "output_type": "stream",
       "stream": "stdout",
       "text": [
        "\n",
        "3.5"
       ]
      },
      {
       "output_type": "stream",
       "stream": "stdout",
       "text": [
        "\n",
        "2.25"
       ]
      },
      {
       "output_type": "stream",
       "stream": "stdout",
       "text": [
        "\n",
        "3.5"
       ]
      },
      {
       "output_type": "stream",
       "stream": "stdout",
       "text": [
        "\n",
        "4.75"
       ]
      },
      {
       "output_type": "stream",
       "stream": "stdout",
       "text": [
        "\n",
        "4.25"
       ]
      },
      {
       "output_type": "stream",
       "stream": "stdout",
       "text": [
        "\n",
        "4.5"
       ]
      },
      {
       "output_type": "stream",
       "stream": "stdout",
       "text": [
        "\n",
        "5.5"
       ]
      },
      {
       "output_type": "stream",
       "stream": "stdout",
       "text": [
        "\n",
        "8.25"
       ]
      },
      {
       "output_type": "stream",
       "stream": "stdout",
       "text": [
        "\n",
        "5.25"
       ]
      },
      {
       "output_type": "stream",
       "stream": "stdout",
       "text": [
        "\n",
        "6.0"
       ]
      },
      {
       "output_type": "stream",
       "stream": "stdout",
       "text": [
        "\n",
        "7.0"
       ]
      },
      {
       "output_type": "stream",
       "stream": "stdout",
       "text": [
        "\n",
        "8.0"
       ]
      },
      {
       "output_type": "stream",
       "stream": "stdout",
       "text": [
        "\n",
        "7.25"
       ]
      },
      {
       "output_type": "stream",
       "stream": "stdout",
       "text": [
        "\n",
        "12.5"
       ]
      },
      {
       "output_type": "stream",
       "stream": "stdout",
       "text": [
        "\n",
        "7.5"
       ]
      },
      {
       "output_type": "stream",
       "stream": "stdout",
       "text": [
        "\n",
        "9.75"
       ]
      },
      {
       "output_type": "stream",
       "stream": "stdout",
       "text": [
        "\n",
        "9.5"
       ]
      },
      {
       "output_type": "stream",
       "stream": "stdout",
       "text": [
        "\n",
        "9.5"
       ]
      },
      {
       "output_type": "stream",
       "stream": "stdout",
       "text": [
        "\n",
        "5.25"
       ]
      },
      {
       "output_type": "stream",
       "stream": "stdout",
       "text": [
        "\n",
        "8.75"
       ]
      },
      {
       "output_type": "stream",
       "stream": "stdout",
       "text": [
        "\n",
        "7.0"
       ]
      },
      {
       "output_type": "stream",
       "stream": "stdout",
       "text": [
        "\n",
        "12.5"
       ]
      },
      {
       "output_type": "stream",
       "stream": "stdout",
       "text": [
        "\n",
        "7.75"
       ]
      },
      {
       "output_type": "stream",
       "stream": "stdout",
       "text": [
        "\n",
        "10.3333333333"
       ]
      },
      {
       "output_type": "stream",
       "stream": "stdout",
       "text": [
        "\n",
        "6.25"
       ]
      },
      {
       "output_type": "stream",
       "stream": "stdout",
       "text": [
        "\n",
        "7.0"
       ]
      },
      {
       "output_type": "stream",
       "stream": "stdout",
       "text": [
        "\n",
        "1.75"
       ]
      },
      {
       "output_type": "stream",
       "stream": "stdout",
       "text": [
        "\n",
        "5.33333333333"
       ]
      },
      {
       "output_type": "stream",
       "stream": "stdout",
       "text": [
        "\n",
        "2.66666666667"
       ]
      },
      {
       "output_type": "stream",
       "stream": "stdout",
       "text": [
        "\n",
        "3.75"
       ]
      },
      {
       "output_type": "stream",
       "stream": "stdout",
       "text": [
        "\n",
        "1.66666666667"
       ]
      },
      {
       "output_type": "stream",
       "stream": "stdout",
       "text": [
        "\n",
        "3.33333333333"
       ]
      },
      {
       "output_type": "stream",
       "stream": "stdout",
       "text": [
        "\n",
        "1.75"
       ]
      },
      {
       "output_type": "stream",
       "stream": "stdout",
       "text": [
        "\n",
        "1.66666666667"
       ]
      },
      {
       "output_type": "stream",
       "stream": "stdout",
       "text": [
        "\n",
        "1.0"
       ]
      },
      {
       "output_type": "stream",
       "stream": "stdout",
       "text": [
        "\n",
        "1.0"
       ]
      },
      {
       "output_type": "stream",
       "stream": "stdout",
       "text": [
        "\n",
        "0.0"
       ]
      },
      {
       "output_type": "stream",
       "stream": "stdout",
       "text": [
        "\n",
        "1.0"
       ]
      },
      {
       "output_type": "stream",
       "stream": "stdout",
       "text": [
        "\n",
        "1.0"
       ]
      },
      {
       "output_type": "stream",
       "stream": "stdout",
       "text": [
        "\n",
        "0.0"
       ]
      },
      {
       "output_type": "stream",
       "stream": "stdout",
       "text": [
        "\n",
        "0.0"
       ]
      },
      {
       "output_type": "stream",
       "stream": "stdout",
       "text": [
        "\n",
        "0.0"
       ]
      },
      {
       "output_type": "stream",
       "stream": "stdout",
       "text": [
        "\n",
        "0.0"
       ]
      },
      {
       "output_type": "stream",
       "stream": "stdout",
       "text": [
        "\n",
        "1.0"
       ]
      },
      {
       "output_type": "stream",
       "stream": "stdout",
       "text": [
        "\n",
        "1.0"
       ]
      },
      {
       "output_type": "stream",
       "stream": "stdout",
       "text": [
        "\n",
        "5.25"
       ]
      },
      {
       "output_type": "stream",
       "stream": "stdout",
       "text": [
        "\n",
        "2.25"
       ]
      },
      {
       "output_type": "stream",
       "stream": "stdout",
       "text": [
        "\n",
        "4.0"
       ]
      },
      {
       "output_type": "stream",
       "stream": "stdout",
       "text": [
        "\n",
        "3.0"
       ]
      },
      {
       "output_type": "stream",
       "stream": "stdout",
       "text": [
        "\n",
        "6.25"
       ]
      },
      {
       "output_type": "stream",
       "stream": "stdout",
       "text": [
        "\n",
        "5.5"
       ]
      },
      {
       "output_type": "stream",
       "stream": "stdout",
       "text": [
        "\n",
        "11.0"
       ]
      },
      {
       "output_type": "stream",
       "stream": "stdout",
       "text": [
        "\n",
        "8.0"
       ]
      },
      {
       "output_type": "stream",
       "stream": "stdout",
       "text": [
        "\n",
        "4.75"
       ]
      },
      {
       "output_type": "stream",
       "stream": "stdout",
       "text": [
        "\n",
        "2.75"
       ]
      },
      {
       "output_type": "stream",
       "stream": "stdout",
       "text": [
        "\n",
        "5.0"
       ]
      },
      {
       "output_type": "stream",
       "stream": "stdout",
       "text": [
        "\n",
        "3.25"
       ]
      },
      {
       "output_type": "stream",
       "stream": "stdout",
       "text": [
        "\n",
        "5.25"
       ]
      },
      {
       "output_type": "stream",
       "stream": "stdout",
       "text": [
        "\n",
        "6.25"
       ]
      },
      {
       "output_type": "stream",
       "stream": "stdout",
       "text": [
        "\n",
        "7.75"
       ]
      },
      {
       "output_type": "stream",
       "stream": "stdout",
       "text": [
        "\n",
        "6.75"
       ]
      },
      {
       "output_type": "stream",
       "stream": "stdout",
       "text": [
        "\n",
        "6.75"
       ]
      },
      {
       "output_type": "stream",
       "stream": "stdout",
       "text": [
        "\n",
        "7.0"
       ]
      },
      {
       "output_type": "stream",
       "stream": "stdout",
       "text": [
        "\n",
        "5.5"
       ]
      },
      {
       "output_type": "stream",
       "stream": "stdout",
       "text": [
        "\n",
        "6.25"
       ]
      },
      {
       "output_type": "stream",
       "stream": "stdout",
       "text": [
        "\n",
        "6.75"
       ]
      },
      {
       "output_type": "stream",
       "stream": "stdout",
       "text": [
        "\n",
        "7.5"
       ]
      },
      {
       "output_type": "stream",
       "stream": "stdout",
       "text": [
        "\n",
        "18.5"
       ]
      },
      {
       "output_type": "stream",
       "stream": "stdout",
       "text": [
        "\n",
        "16.25"
       ]
      },
      {
       "output_type": "stream",
       "stream": "stdout",
       "text": [
        "\n",
        "20.0"
       ]
      },
      {
       "output_type": "stream",
       "stream": "stdout",
       "text": [
        "\n",
        "13.75"
       ]
      },
      {
       "output_type": "stream",
       "stream": "stdout",
       "text": [
        "\n",
        "15.0"
       ]
      },
      {
       "output_type": "stream",
       "stream": "stdout",
       "text": [
        "\n",
        "11.25"
       ]
      },
      {
       "output_type": "stream",
       "stream": "stdout",
       "text": [
        "\n",
        "11.75"
       ]
      },
      {
       "output_type": "stream",
       "stream": "stdout",
       "text": [
        "\n",
        "8.75"
       ]
      },
      {
       "output_type": "stream",
       "stream": "stdout",
       "text": [
        "\n",
        "12.25"
       ]
      },
      {
       "output_type": "stream",
       "stream": "stdout",
       "text": [
        "\n",
        "6.5"
       ]
      },
      {
       "output_type": "stream",
       "stream": "stdout",
       "text": [
        "\n",
        "4.75"
       ]
      },
      {
       "output_type": "stream",
       "stream": "stdout",
       "text": [
        "\n",
        "4.75"
       ]
      },
      {
       "output_type": "stream",
       "stream": "stdout",
       "text": [
        "\n",
        "1.4"
       ]
      },
      {
       "output_type": "stream",
       "stream": "stdout",
       "text": [
        "\n",
        "1.6"
       ]
      },
      {
       "output_type": "stream",
       "stream": "stdout",
       "text": [
        "\n",
        "2.25"
       ]
      },
      {
       "output_type": "stream",
       "stream": "stdout",
       "text": [
        "\n",
        "2.0"
       ]
      },
      {
       "output_type": "stream",
       "stream": "stdout",
       "text": [
        "\n",
        "1.5"
       ]
      },
      {
       "output_type": "stream",
       "stream": "stdout",
       "text": [
        "\n",
        "1.0"
       ]
      },
      {
       "output_type": "stream",
       "stream": "stdout",
       "text": [
        "\n",
        "0.0"
       ]
      },
      {
       "output_type": "stream",
       "stream": "stdout",
       "text": [
        "\n",
        "0.0"
       ]
      },
      {
       "output_type": "stream",
       "stream": "stdout",
       "text": [
        "\n",
        "1.5"
       ]
      },
      {
       "output_type": "stream",
       "stream": "stdout",
       "text": [
        "\n",
        "1.0"
       ]
      },
      {
       "output_type": "stream",
       "stream": "stdout",
       "text": [
        "\n",
        "1.2"
       ]
      },
      {
       "output_type": "stream",
       "stream": "stdout",
       "text": [
        "\n",
        "1.2"
       ]
      },
      {
       "output_type": "stream",
       "stream": "stdout",
       "text": [
        "\n",
        "3.4"
       ]
      },
      {
       "output_type": "stream",
       "stream": "stdout",
       "text": [
        "\n",
        "2.8"
       ]
      },
      {
       "output_type": "stream",
       "stream": "stdout",
       "text": [
        "\n",
        "8.4"
       ]
      },
      {
       "output_type": "stream",
       "stream": "stdout",
       "text": [
        "\n",
        "4.2"
       ]
      },
      {
       "output_type": "stream",
       "stream": "stdout",
       "text": [
        "\n",
        "9.8"
       ]
      },
      {
       "output_type": "stream",
       "stream": "stdout",
       "text": [
        "\n",
        "6.8"
       ]
      },
      {
       "output_type": "stream",
       "stream": "stdout",
       "text": [
        "\n",
        "10.2"
       ]
      },
      {
       "output_type": "stream",
       "stream": "stdout",
       "text": [
        "\n",
        "6.8"
       ]
      },
      {
       "output_type": "stream",
       "stream": "stdout",
       "text": [
        "\n",
        "5.8"
       ]
      },
      {
       "output_type": "stream",
       "stream": "stdout",
       "text": [
        "\n",
        "5.4"
       ]
      },
      {
       "output_type": "stream",
       "stream": "stdout",
       "text": [
        "\n",
        "6.6"
       ]
      },
      {
       "output_type": "stream",
       "stream": "stdout",
       "text": [
        "\n",
        "5.8"
       ]
      },
      {
       "output_type": "stream",
       "stream": "stdout",
       "text": [
        "\n",
        "8.0"
       ]
      },
      {
       "output_type": "stream",
       "stream": "stdout",
       "text": [
        "\n",
        "9.6"
       ]
      },
      {
       "output_type": "stream",
       "stream": "stdout",
       "text": [
        "\n",
        "8.6"
       ]
      },
      {
       "output_type": "stream",
       "stream": "stdout",
       "text": [
        "\n",
        "7.4"
       ]
      },
      {
       "output_type": "stream",
       "stream": "stdout",
       "text": [
        "\n",
        "6.25"
       ]
      },
      {
       "output_type": "stream",
       "stream": "stdout",
       "text": [
        "\n",
        "5.0"
       ]
      },
      {
       "output_type": "stream",
       "stream": "stdout",
       "text": [
        "\n",
        "6.8"
       ]
      },
      {
       "output_type": "stream",
       "stream": "stdout",
       "text": [
        "\n",
        "5.6"
       ]
      },
      {
       "output_type": "stream",
       "stream": "stdout",
       "text": [
        "\n",
        "6.6"
       ]
      },
      {
       "output_type": "stream",
       "stream": "stdout",
       "text": [
        "\n",
        "8.2"
       ]
      },
      {
       "output_type": "stream",
       "stream": "stdout",
       "text": [
        "\n",
        "20.6"
       ]
      },
      {
       "output_type": "stream",
       "stream": "stdout",
       "text": [
        "\n",
        "22.4"
       ]
      },
      {
       "output_type": "stream",
       "stream": "stdout",
       "text": [
        "\n",
        "32.8"
       ]
      },
      {
       "output_type": "stream",
       "stream": "stdout",
       "text": [
        "\n",
        "21.8"
       ]
      },
      {
       "output_type": "stream",
       "stream": "stdout",
       "text": [
        "\n",
        "19.8"
       ]
      },
      {
       "output_type": "stream",
       "stream": "stdout",
       "text": [
        "\n",
        "11.0"
       ]
      },
      {
       "output_type": "stream",
       "stream": "stdout",
       "text": [
        "\n",
        "11.2"
       ]
      },
      {
       "output_type": "stream",
       "stream": "stdout",
       "text": [
        "\n",
        "9.6"
       ]
      },
      {
       "output_type": "stream",
       "stream": "stdout",
       "text": [
        "\n",
        "12.0"
       ]
      },
      {
       "output_type": "stream",
       "stream": "stdout",
       "text": [
        "\n",
        "5.2"
       ]
      },
      {
       "output_type": "stream",
       "stream": "stdout",
       "text": [
        "\n",
        "6.6"
       ]
      },
      {
       "output_type": "stream",
       "stream": "stdout",
       "text": [
        "\n",
        "4.0"
       ]
      },
      {
       "output_type": "stream",
       "stream": "stdout",
       "text": [
        "\n",
        "2.0"
       ]
      },
      {
       "output_type": "stream",
       "stream": "stdout",
       "text": [
        "\n",
        "2.25"
       ]
      },
      {
       "output_type": "stream",
       "stream": "stdout",
       "text": [
        "\n",
        "1.5"
       ]
      },
      {
       "output_type": "stream",
       "stream": "stdout",
       "text": [
        "\n",
        "1.0"
       ]
      },
      {
       "output_type": "stream",
       "stream": "stdout",
       "text": [
        "\n",
        "0.0"
       ]
      },
      {
       "output_type": "stream",
       "stream": "stdout",
       "text": [
        "\n",
        "1.0"
       ]
      },
      {
       "output_type": "stream",
       "stream": "stdout",
       "text": [
        "\n",
        "1.0"
       ]
      },
      {
       "output_type": "stream",
       "stream": "stdout",
       "text": [
        "\n",
        "1.0"
       ]
      },
      {
       "output_type": "stream",
       "stream": "stdout",
       "text": [
        "\n",
        "1.5"
       ]
      },
      {
       "output_type": "stream",
       "stream": "stdout",
       "text": [
        "\n",
        "1.0"
       ]
      },
      {
       "output_type": "stream",
       "stream": "stdout",
       "text": [
        "\n",
        "1.0"
       ]
      },
      {
       "output_type": "stream",
       "stream": "stdout",
       "text": [
        "\n",
        "1.5"
       ]
      },
      {
       "output_type": "stream",
       "stream": "stdout",
       "text": [
        "\n",
        "4.5"
       ]
      },
      {
       "output_type": "stream",
       "stream": "stdout",
       "text": [
        "\n",
        "2.8"
       ]
      },
      {
       "output_type": "stream",
       "stream": "stdout",
       "text": [
        "\n",
        "7.8"
       ]
      },
      {
       "output_type": "stream",
       "stream": "stdout",
       "text": [
        "\n",
        "5.4"
       ]
      },
      {
       "output_type": "stream",
       "stream": "stdout",
       "text": [
        "\n",
        "12.0"
       ]
      },
      {
       "output_type": "stream",
       "stream": "stdout",
       "text": [
        "\n",
        "6.6"
       ]
      },
      {
       "output_type": "stream",
       "stream": "stdout",
       "text": [
        "\n",
        "14.2"
       ]
      },
      {
       "output_type": "stream",
       "stream": "stdout",
       "text": [
        "\n",
        "9.0"
       ]
      },
      {
       "output_type": "stream",
       "stream": "stdout",
       "text": [
        "\n",
        "10.4"
       ]
      },
      {
       "output_type": "stream",
       "stream": "stdout",
       "text": [
        "\n",
        "4.6"
       ]
      },
      {
       "output_type": "stream",
       "stream": "stdout",
       "text": [
        "\n",
        "7.6"
       ]
      },
      {
       "output_type": "stream",
       "stream": "stdout",
       "text": [
        "\n",
        "5.2"
       ]
      },
      {
       "output_type": "stream",
       "stream": "stdout",
       "text": [
        "\n",
        "8.8"
       ]
      },
      {
       "output_type": "stream",
       "stream": "stdout",
       "text": [
        "\n",
        "6.4"
       ]
      },
      {
       "output_type": "stream",
       "stream": "stdout",
       "text": [
        "\n",
        "6.6"
       ]
      },
      {
       "output_type": "stream",
       "stream": "stdout",
       "text": [
        "\n",
        "7.4"
       ]
      },
      {
       "output_type": "stream",
       "stream": "stdout",
       "text": [
        "\n",
        "7.2"
       ]
      },
      {
       "output_type": "stream",
       "stream": "stdout",
       "text": [
        "\n",
        "6.2"
       ]
      },
      {
       "output_type": "stream",
       "stream": "stdout",
       "text": [
        "\n",
        "8.8"
       ]
      },
      {
       "output_type": "stream",
       "stream": "stdout",
       "text": [
        "\n",
        "7.4"
       ]
      },
      {
       "output_type": "stream",
       "stream": "stdout",
       "text": [
        "\n",
        "12.4"
       ]
      },
      {
       "output_type": "stream",
       "stream": "stdout",
       "text": [
        "\n",
        "10.4"
       ]
      },
      {
       "output_type": "stream",
       "stream": "stdout",
       "text": [
        "\n",
        "21.4"
       ]
      },
      {
       "output_type": "stream",
       "stream": "stdout",
       "text": [
        "\n",
        "18.0"
       ]
      },
      {
       "output_type": "stream",
       "stream": "stdout",
       "text": [
        "\n",
        "23.0"
       ]
      },
      {
       "output_type": "stream",
       "stream": "stdout",
       "text": [
        "\n",
        "15.8"
       ]
      },
      {
       "output_type": "stream",
       "stream": "stdout",
       "text": [
        "\n",
        "18.6"
       ]
      },
      {
       "output_type": "stream",
       "stream": "stdout",
       "text": [
        "\n",
        "11.8"
       ]
      },
      {
       "output_type": "stream",
       "stream": "stdout",
       "text": [
        "\n",
        "10.0"
       ]
      },
      {
       "output_type": "stream",
       "stream": "stdout",
       "text": [
        "\n",
        "7.0"
       ]
      },
      {
       "output_type": "stream",
       "stream": "stdout",
       "text": [
        "\n",
        "11.0"
       ]
      },
      {
       "output_type": "stream",
       "stream": "stdout",
       "text": [
        "\n",
        "6.2"
       ]
      },
      {
       "output_type": "stream",
       "stream": "stdout",
       "text": [
        "\n",
        "9.0"
       ]
      },
      {
       "output_type": "stream",
       "stream": "stdout",
       "text": [
        "\n",
        "3.2"
       ]
      },
      {
       "output_type": "stream",
       "stream": "stdout",
       "text": [
        "\n",
        "1.25"
       ]
      },
      {
       "output_type": "stream",
       "stream": "stdout",
       "text": [
        "\n",
        "2.5"
       ]
      },
      {
       "output_type": "stream",
       "stream": "stdout",
       "text": [
        "\n",
        "1.0"
       ]
      },
      {
       "output_type": "stream",
       "stream": "stdout",
       "text": [
        "\n",
        "1.0"
       ]
      },
      {
       "output_type": "stream",
       "stream": "stdout",
       "text": [
        "\n",
        "1.0"
       ]
      },
      {
       "output_type": "stream",
       "stream": "stdout",
       "text": [
        "\n",
        "1.0"
       ]
      },
      {
       "output_type": "stream",
       "stream": "stdout",
       "text": [
        "\n",
        "1.0"
       ]
      },
      {
       "output_type": "stream",
       "stream": "stdout",
       "text": [
        "\n",
        "1.0"
       ]
      },
      {
       "output_type": "stream",
       "stream": "stdout",
       "text": [
        "\n",
        "0.0"
       ]
      },
      {
       "output_type": "stream",
       "stream": "stdout",
       "text": [
        "\n",
        "1.0"
       ]
      },
      {
       "output_type": "stream",
       "stream": "stdout",
       "text": [
        "\n",
        "1.66666666667"
       ]
      },
      {
       "output_type": "stream",
       "stream": "stdout",
       "text": [
        "\n",
        "1.33333333333"
       ]
      },
      {
       "output_type": "stream",
       "stream": "stdout",
       "text": [
        "\n",
        "4.6"
       ]
      },
      {
       "output_type": "stream",
       "stream": "stdout",
       "text": [
        "\n",
        "4.2"
       ]
      },
      {
       "output_type": "stream",
       "stream": "stdout",
       "text": [
        "\n",
        "7.0"
       ]
      },
      {
       "output_type": "stream",
       "stream": "stdout",
       "text": [
        "\n",
        "5.8"
       ]
      },
      {
       "output_type": "stream",
       "stream": "stdout",
       "text": [
        "\n",
        "12.8"
       ]
      },
      {
       "output_type": "stream",
       "stream": "stdout",
       "text": [
        "\n",
        "5.0"
       ]
      },
      {
       "output_type": "stream",
       "stream": "stdout",
       "text": [
        "\n",
        "10.2"
       ]
      },
      {
       "output_type": "stream",
       "stream": "stdout",
       "text": [
        "\n",
        "6.6"
       ]
      },
      {
       "output_type": "stream",
       "stream": "stdout",
       "text": [
        "\n",
        "8.8"
       ]
      },
      {
       "output_type": "stream",
       "stream": "stdout",
       "text": [
        "\n",
        "5.4"
       ]
      },
      {
       "output_type": "stream",
       "stream": "stdout",
       "text": [
        "\n",
        "7.6"
       ]
      },
      {
       "output_type": "stream",
       "stream": "stdout",
       "text": [
        "\n",
        "5.0"
       ]
      },
      {
       "output_type": "stream",
       "stream": "stdout",
       "text": [
        "\n",
        "7.4"
       ]
      },
      {
       "output_type": "stream",
       "stream": "stdout",
       "text": [
        "\n",
        "7.6"
       ]
      },
      {
       "output_type": "stream",
       "stream": "stdout",
       "text": [
        "\n",
        "8.0"
       ]
      },
      {
       "output_type": "stream",
       "stream": "stdout",
       "text": [
        "\n",
        "8.8"
       ]
      },
      {
       "output_type": "stream",
       "stream": "stdout",
       "text": [
        "\n",
        "8.0"
       ]
      },
      {
       "output_type": "stream",
       "stream": "stdout",
       "text": [
        "\n",
        "5.8"
       ]
      },
      {
       "output_type": "stream",
       "stream": "stdout",
       "text": [
        "\n",
        "5.6"
       ]
      },
      {
       "output_type": "stream",
       "stream": "stdout",
       "text": [
        "\n",
        "5.2"
       ]
      },
      {
       "output_type": "stream",
       "stream": "stdout",
       "text": [
        "\n",
        "10.8"
       ]
      },
      {
       "output_type": "stream",
       "stream": "stdout",
       "text": [
        "\n",
        "10.2"
       ]
      },
      {
       "output_type": "stream",
       "stream": "stdout",
       "text": [
        "\n",
        "20.8"
       ]
      },
      {
       "output_type": "stream",
       "stream": "stdout",
       "text": [
        "\n",
        "19.2"
       ]
      },
      {
       "output_type": "stream",
       "stream": "stdout",
       "text": [
        "\n",
        "26.2"
       ]
      },
      {
       "output_type": "stream",
       "stream": "stdout",
       "text": [
        "\n",
        "19.4"
       ]
      },
      {
       "output_type": "stream",
       "stream": "stdout",
       "text": [
        "\n",
        "19.0"
       ]
      },
      {
       "output_type": "stream",
       "stream": "stdout",
       "text": [
        "\n",
        "12.8"
       ]
      },
      {
       "output_type": "stream",
       "stream": "stdout",
       "text": [
        "\n",
        "15.0"
       ]
      },
      {
       "output_type": "stream",
       "stream": "stdout",
       "text": [
        "\n",
        "5.4"
       ]
      },
      {
       "output_type": "stream",
       "stream": "stdout",
       "text": [
        "\n",
        "8.8"
       ]
      },
      {
       "output_type": "stream",
       "stream": "stdout",
       "text": [
        "\n",
        "5.8"
       ]
      },
      {
       "output_type": "stream",
       "stream": "stdout",
       "text": [
        "\n",
        "8.6"
       ]
      },
      {
       "output_type": "stream",
       "stream": "stdout",
       "text": [
        "\n",
        "4.2"
       ]
      },
      {
       "output_type": "stream",
       "stream": "stdout",
       "text": [
        "\n",
        "2.0"
       ]
      },
      {
       "output_type": "stream",
       "stream": "stdout",
       "text": [
        "\n",
        "1.33333333333"
       ]
      },
      {
       "output_type": "stream",
       "stream": "stdout",
       "text": [
        "\n",
        "2.5"
       ]
      },
      {
       "output_type": "stream",
       "stream": "stdout",
       "text": [
        "\n",
        "2.0"
       ]
      },
      {
       "output_type": "stream",
       "stream": "stdout",
       "text": [
        "\n",
        "1.0"
       ]
      },
      {
       "output_type": "stream",
       "stream": "stdout",
       "text": [
        "\n",
        "1.5"
       ]
      },
      {
       "output_type": "stream",
       "stream": "stdout",
       "text": [
        "\n",
        "1.0"
       ]
      },
      {
       "output_type": "stream",
       "stream": "stdout",
       "text": [
        "\n",
        "0.0"
       ]
      },
      {
       "output_type": "stream",
       "stream": "stdout",
       "text": [
        "\n",
        "1.0"
       ]
      },
      {
       "output_type": "stream",
       "stream": "stdout",
       "text": [
        "\n",
        "1.0"
       ]
      },
      {
       "output_type": "stream",
       "stream": "stdout",
       "text": [
        "\n",
        "0.0"
       ]
      },
      {
       "output_type": "stream",
       "stream": "stdout",
       "text": [
        "\n",
        "1.0"
       ]
      },
      {
       "output_type": "stream",
       "stream": "stdout",
       "text": [
        "\n",
        "5.25"
       ]
      },
      {
       "output_type": "stream",
       "stream": "stdout",
       "text": [
        "\n",
        "3.0"
       ]
      },
      {
       "output_type": "stream",
       "stream": "stdout",
       "text": [
        "\n",
        "8.75"
       ]
      },
      {
       "output_type": "stream",
       "stream": "stdout",
       "text": [
        "\n",
        "3.5"
       ]
      },
      {
       "output_type": "stream",
       "stream": "stdout",
       "text": [
        "\n",
        "12.75"
       ]
      },
      {
       "output_type": "stream",
       "stream": "stdout",
       "text": [
        "\n",
        "8.0"
       ]
      },
      {
       "output_type": "stream",
       "stream": "stdout",
       "text": [
        "\n",
        "12.75"
       ]
      },
      {
       "output_type": "stream",
       "stream": "stdout",
       "text": [
        "\n",
        "8.25"
       ]
      },
      {
       "output_type": "stream",
       "stream": "stdout",
       "text": [
        "\n",
        "10.25"
       ]
      },
      {
       "output_type": "stream",
       "stream": "stdout",
       "text": [
        "\n",
        "7.0"
       ]
      },
      {
       "output_type": "stream",
       "stream": "stdout",
       "text": [
        "\n",
        "11.25"
       ]
      },
      {
       "output_type": "stream",
       "stream": "stdout",
       "text": [
        "\n",
        "7.5"
       ]
      },
      {
       "output_type": "stream",
       "stream": "stdout",
       "text": [
        "\n",
        "9.25"
       ]
      },
      {
       "output_type": "stream",
       "stream": "stdout",
       "text": [
        "\n",
        "10.0"
       ]
      },
      {
       "output_type": "stream",
       "stream": "stdout",
       "text": [
        "\n",
        "9.0"
       ]
      },
      {
       "output_type": "stream",
       "stream": "stdout",
       "text": [
        "\n",
        "7.75"
       ]
      },
      {
       "output_type": "stream",
       "stream": "stdout",
       "text": [
        "\n",
        "6.5"
       ]
      },
      {
       "output_type": "stream",
       "stream": "stdout",
       "text": [
        "\n",
        "6.5"
       ]
      },
      {
       "output_type": "stream",
       "stream": "stdout",
       "text": [
        "\n",
        "6.75"
       ]
      },
      {
       "output_type": "stream",
       "stream": "stdout",
       "text": [
        "\n",
        "8.5"
       ]
      },
      {
       "output_type": "stream",
       "stream": "stdout",
       "text": [
        "\n",
        "14.75"
       ]
      },
      {
       "output_type": "stream",
       "stream": "stdout",
       "text": [
        "\n",
        "14.25"
       ]
      },
      {
       "output_type": "stream",
       "stream": "stdout",
       "text": [
        "\n",
        "34.0"
       ]
      },
      {
       "output_type": "stream",
       "stream": "stdout",
       "text": [
        "\n",
        "16.75"
       ]
      },
      {
       "output_type": "stream",
       "stream": "stdout",
       "text": [
        "\n",
        "30.0"
       ]
      },
      {
       "output_type": "stream",
       "stream": "stdout",
       "text": [
        "\n",
        "16.5"
       ]
      },
      {
       "output_type": "stream",
       "stream": "stdout",
       "text": [
        "\n",
        "17.25"
       ]
      },
      {
       "output_type": "stream",
       "stream": "stdout",
       "text": [
        "\n",
        "17.25"
       ]
      },
      {
       "output_type": "stream",
       "stream": "stdout",
       "text": [
        "\n",
        "9.75"
       ]
      },
      {
       "output_type": "stream",
       "stream": "stdout",
       "text": [
        "\n",
        "3.75"
       ]
      },
      {
       "output_type": "stream",
       "stream": "stdout",
       "text": [
        "\n",
        "5.5"
       ]
      },
      {
       "output_type": "stream",
       "stream": "stdout",
       "text": [
        "\n",
        "4.75"
       ]
      },
      {
       "output_type": "stream",
       "stream": "stdout",
       "text": [
        "\n",
        "11.25"
       ]
      },
      {
       "output_type": "stream",
       "stream": "stdout",
       "text": [
        "\n",
        "5.25"
       ]
      },
      {
       "output_type": "stream",
       "stream": "stdout",
       "text": [
        "\n",
        "3.25"
       ]
      },
      {
       "output_type": "stream",
       "stream": "stdout",
       "text": [
        "\n",
        "3.75"
       ]
      },
      {
       "output_type": "stream",
       "stream": "stdout",
       "text": [
        "\n",
        "3.25"
       ]
      },
      {
       "output_type": "stream",
       "stream": "stdout",
       "text": [
        "\n",
        "2.25"
       ]
      },
      {
       "output_type": "stream",
       "stream": "stdout",
       "text": [
        "\n",
        "2.0"
       ]
      },
      {
       "output_type": "stream",
       "stream": "stdout",
       "text": [
        "\n",
        "1.66666666667"
       ]
      },
      {
       "output_type": "stream",
       "stream": "stdout",
       "text": [
        "\n",
        "1.0"
       ]
      },
      {
       "output_type": "stream",
       "stream": "stdout",
       "text": [
        "\n",
        "1.0"
       ]
      },
      {
       "output_type": "stream",
       "stream": "stdout",
       "text": [
        "\n",
        "0.0"
       ]
      },
      {
       "output_type": "stream",
       "stream": "stdout",
       "text": [
        "\n",
        "0.0"
       ]
      },
      {
       "output_type": "stream",
       "stream": "stdout",
       "text": [
        "\n",
        "2.5"
       ]
      },
      {
       "output_type": "stream",
       "stream": "stdout",
       "text": [
        "\n",
        "3.0"
       ]
      },
      {
       "output_type": "stream",
       "stream": "stdout",
       "text": [
        "\n",
        "2.0"
       ]
      },
      {
       "output_type": "stream",
       "stream": "stdout",
       "text": [
        "\n",
        "1.0"
       ]
      },
      {
       "output_type": "stream",
       "stream": "stdout",
       "text": [
        "\n",
        "1.0"
       ]
      },
      {
       "output_type": "stream",
       "stream": "stdout",
       "text": [
        "\n",
        "1.33333333333"
       ]
      },
      {
       "output_type": "stream",
       "stream": "stdout",
       "text": [
        "\n",
        "4.25"
       ]
      },
      {
       "output_type": "stream",
       "stream": "stdout",
       "text": [
        "\n",
        "2.5"
       ]
      },
      {
       "output_type": "stream",
       "stream": "stdout",
       "text": [
        "\n",
        "5.0"
       ]
      },
      {
       "output_type": "stream",
       "stream": "stdout",
       "text": [
        "\n",
        "3.75"
       ]
      },
      {
       "output_type": "stream",
       "stream": "stdout",
       "text": [
        "\n",
        "5.5"
       ]
      },
      {
       "output_type": "stream",
       "stream": "stdout",
       "text": [
        "\n",
        "5.25"
       ]
      },
      {
       "output_type": "stream",
       "stream": "stdout",
       "text": [
        "\n",
        "6.5"
       ]
      },
      {
       "output_type": "stream",
       "stream": "stdout",
       "text": [
        "\n",
        "7.75"
       ]
      },
      {
       "output_type": "stream",
       "stream": "stdout",
       "text": [
        "\n",
        "10.0"
       ]
      },
      {
       "output_type": "stream",
       "stream": "stdout",
       "text": [
        "\n",
        "11.5"
       ]
      },
      {
       "output_type": "stream",
       "stream": "stdout",
       "text": [
        "\n",
        "13.5"
       ]
      },
      {
       "output_type": "stream",
       "stream": "stdout",
       "text": [
        "\n",
        "13.75"
       ]
      },
      {
       "output_type": "stream",
       "stream": "stdout",
       "text": [
        "\n",
        "11.75"
       ]
      },
      {
       "output_type": "stream",
       "stream": "stdout",
       "text": [
        "\n",
        "8.75"
       ]
      },
      {
       "output_type": "stream",
       "stream": "stdout",
       "text": [
        "\n",
        "9.75"
       ]
      },
      {
       "output_type": "stream",
       "stream": "stdout",
       "text": [
        "\n",
        "11.25"
       ]
      },
      {
       "output_type": "stream",
       "stream": "stdout",
       "text": [
        "\n",
        "11.25"
       ]
      },
      {
       "output_type": "stream",
       "stream": "stdout",
       "text": [
        "\n",
        "13.25"
       ]
      },
      {
       "output_type": "stream",
       "stream": "stdout",
       "text": [
        "\n",
        "12.5"
       ]
      },
      {
       "output_type": "stream",
       "stream": "stdout",
       "text": [
        "\n",
        "13.25"
       ]
      },
      {
       "output_type": "stream",
       "stream": "stdout",
       "text": [
        "\n",
        "8.5"
       ]
      },
      {
       "output_type": "stream",
       "stream": "stdout",
       "text": [
        "\n",
        "10.5"
       ]
      },
      {
       "output_type": "stream",
       "stream": "stdout",
       "text": [
        "\n",
        "7.0"
       ]
      },
      {
       "output_type": "stream",
       "stream": "stdout",
       "text": [
        "\n",
        "9.75"
       ]
      },
      {
       "output_type": "stream",
       "stream": "stdout",
       "text": [
        "\n",
        "4.75"
       ]
      },
      {
       "output_type": "stream",
       "stream": "stdout",
       "text": [
        "\n",
        "4.25"
       ]
      },
      {
       "output_type": "stream",
       "stream": "stdout",
       "text": [
        "\n",
        "5.25"
       ]
      },
      {
       "output_type": "stream",
       "stream": "stdout",
       "text": [
        "\n",
        "4.0"
       ]
      },
      {
       "output_type": "stream",
       "stream": "stdout",
       "text": [
        "\n",
        "9.75"
       ]
      },
      {
       "output_type": "stream",
       "stream": "stdout",
       "text": [
        "\n",
        "4.0"
       ]
      },
      {
       "output_type": "stream",
       "stream": "stdout",
       "text": [
        "\n"
       ]
      }
     ],
     "prompt_number": 32
    },
    {
     "cell_type": "code",
     "collapsed": false,
     "input": [
      "sm519 = pd.DataFrame(sm519Oct)\n",
      "em519 = pd.DataFrame(em519Oct)\n",
      "tm519 = pd.DataFrame(tm519)\n",
      "sm2021 = pd.DataFrame(sm2021Oct)\n",
      "em2021 = pd.DataFrame(em2021Oct)\n",
      "tm2021 = pd.DataFrame(tm2021)\n",
      "\n",
      "sm2021.to_csv('bikedata/Oct/sm2021.csv')\n",
      "em2021.to_csv('bikedata/Oct/em2021.csv')\n",
      "tm2021.to_csv('bikedata/Oct/tm2021.csv')\n",
      "sm519.to_csv('bikedata/Oct/sm519.csv')\n",
      "em519.to_csv('bikedata/Oct/em519.csv')\n",
      "tm519.to_csv('bikedata/Oct/tm519.csv')"
     ],
     "language": "python",
     "metadata": {},
     "outputs": [],
     "prompt_number": 31
    },
    {
     "cell_type": "code",
     "collapsed": false,
     "input": [
      "#del Octcomingsandgoings['Unnamed: 0']\n",
      "#Octcomingsandgoings.to_csv('\n",
      "#Octcomingsandgoings['ratio'] = Octcomingsandgoings.end/Octcomingsandgoings.start\n",
      "print Octcomingsandgoings.sort('ratio').head(7)\n",
      "Octcomingsandgoings.sort('ratio').tail(7)"
     ],
     "language": "python",
     "metadata": {},
     "outputs": [
      {
       "output_type": "stream",
       "stream": "stdout",
       "text": [
        "       ID    month  start   end  diff   latitude  longitude     ratio\n",
        "290   517  October   5435  3734 -1701  40.751493 -73.977988  0.687029\n",
        "305   533  October   2529  1855  -674  40.752996 -73.987216  0.733491\n",
        "240   465  October   5726  4305 -1421  40.755136 -73.986580  0.751834\n",
        "292   519  October  11169  8623 -2546  40.751884 -73.977702  0.772048\n",
        "327  2021  October   5469  4242 -1227  40.759291 -73.988597  0.775645\n",
        "243   468  October   4046  3179  -867  40.765265 -73.981923  0.785714\n",
        "265   490  October   7819  6458 -1361  40.751551 -73.993934  0.825937\n",
        "\n",
        "[7 rows x 8 columns]\n"
       ]
      },
      {
       "html": [
        "<div style=\"max-height:1000px;max-width:1500px;overflow:auto;\">\n",
        "<table border=\"1\" class=\"dataframe\">\n",
        "  <thead>\n",
        "    <tr style=\"text-align: right;\">\n",
        "      <th></th>\n",
        "      <th>ID</th>\n",
        "      <th>month</th>\n",
        "      <th>start</th>\n",
        "      <th>end</th>\n",
        "      <th>diff</th>\n",
        "      <th>latitude</th>\n",
        "      <th>longitude</th>\n",
        "      <th>ratio</th>\n",
        "    </tr>\n",
        "  </thead>\n",
        "  <tbody>\n",
        "    <tr>\n",
        "      <th>246</th>\n",
        "      <td>  471</td>\n",
        "      <td> October</td>\n",
        "      <td>  964</td>\n",
        "      <td> 1129</td>\n",
        "      <td> 165</td>\n",
        "      <td> 40.712868</td>\n",
        "      <td>-73.956981</td>\n",
        "      <td> 1.171162</td>\n",
        "    </tr>\n",
        "    <tr>\n",
        "      <th>38 </th>\n",
        "      <td>  236</td>\n",
        "      <td> October</td>\n",
        "      <td> 4001</td>\n",
        "      <td> 4698</td>\n",
        "      <td> 697</td>\n",
        "      <td> 40.728419</td>\n",
        "      <td>-73.987140</td>\n",
        "      <td> 1.174206</td>\n",
        "    </tr>\n",
        "    <tr>\n",
        "      <th>306</th>\n",
        "      <td>  534</td>\n",
        "      <td> October</td>\n",
        "      <td> 1316</td>\n",
        "      <td> 1551</td>\n",
        "      <td> 235</td>\n",
        "      <td> 40.702551</td>\n",
        "      <td>-74.012723</td>\n",
        "      <td> 1.178571</td>\n",
        "    </tr>\n",
        "    <tr>\n",
        "      <th>283</th>\n",
        "      <td>  510</td>\n",
        "      <td> October</td>\n",
        "      <td> 3347</td>\n",
        "      <td> 3975</td>\n",
        "      <td> 628</td>\n",
        "      <td> 40.760660</td>\n",
        "      <td>-73.980420</td>\n",
        "      <td> 1.187631</td>\n",
        "    </tr>\n",
        "    <tr>\n",
        "      <th>302</th>\n",
        "      <td>  529</td>\n",
        "      <td> October</td>\n",
        "      <td> 3273</td>\n",
        "      <td> 3892</td>\n",
        "      <td> 619</td>\n",
        "      <td> 40.757570</td>\n",
        "      <td>-73.990985</td>\n",
        "      <td> 1.189123</td>\n",
        "    </tr>\n",
        "    <tr>\n",
        "      <th>0  </th>\n",
        "      <td>   72</td>\n",
        "      <td> October</td>\n",
        "      <td> 3325</td>\n",
        "      <td> 3954</td>\n",
        "      <td> 629</td>\n",
        "      <td> 40.767272</td>\n",
        "      <td>-73.993929</td>\n",
        "      <td> 1.189173</td>\n",
        "    </tr>\n",
        "    <tr>\n",
        "      <th>320</th>\n",
        "      <td> 2005</td>\n",
        "      <td> October</td>\n",
        "      <td>   96</td>\n",
        "      <td>  116</td>\n",
        "      <td>  20</td>\n",
        "      <td> 40.705312</td>\n",
        "      <td>-73.971001</td>\n",
        "      <td> 1.208333</td>\n",
        "    </tr>\n",
        "  </tbody>\n",
        "</table>\n",
        "<p>7 rows \u00d7 8 columns</p>\n",
        "</div>"
       ],
       "metadata": {},
       "output_type": "pyout",
       "prompt_number": 27,
       "text": [
        "       ID    month  start   end  diff   latitude  longitude     ratio\n",
        "246   471  October    964  1129   165  40.712868 -73.956981  1.171162\n",
        "38    236  October   4001  4698   697  40.728419 -73.987140  1.174206\n",
        "306   534  October   1316  1551   235  40.702551 -74.012723  1.178571\n",
        "283   510  October   3347  3975   628  40.760660 -73.980420  1.187631\n",
        "302   529  October   3273  3892   619  40.757570 -73.990985  1.189123\n",
        "0      72  October   3325  3954   629  40.767272 -73.993929  1.189173\n",
        "320  2005  October     96   116    20  40.705312 -73.971001  1.208333\n",
        "\n",
        "[7 rows x 8 columns]"
       ]
      }
     ],
     "prompt_number": 27
    },
    {
     "cell_type": "code",
     "collapsed": false,
     "input": [
      "sm119 = pd.DataFrame(sm119)\n",
      "em119 = pd.DataFrame(em119)\n",
      "tm119 = pd.DataFrame(tm119)\n",
      "sm119.to_csv('bikedata/sm119.csv')\n",
      "em119.to_csv('bikedata/em119.csv')\n",
      "tm119.to_csv('bikedata/tm119.csv')"
     ],
     "language": "python",
     "metadata": {},
     "outputs": [],
     "prompt_number": 7
    },
    {
     "cell_type": "raw",
     "metadata": {},
     "source": [
      "You could also tally comings and goings by areas instead of individual stations. The program could include stations whose longitudes and latitudes fall between given values. Instead of comparing station id #'s to values in the trip file, it could see if the value in the trip file is included in the generated list."
     ]
    },
    {
     "cell_type": "code",
     "collapsed": false,
     "input": [
      "\"\"\"countsmatrix72 = np.zeros((7, 24))\n",
      "countsmatrix72end = np.zeros((7,24))\n",
      "\n",
      "for x in range(0,6):\n",
      "    for y in range(0,23):\n",
      "        countsmatrix72[x][y] = hourcount(start72,x,y)\n",
      "        countsmatrix72end[x][y] = hourcount(end72,x,y)\n",
      "print countsmatrix72\n",
      "print countsmatrix72end\n",
      "\n",
      "countsmatrix72tot = countsmatrix72end - countsmatrix72\n",
      "np.set_printoptions(precision=2)\n",
      "print countsmatrix72tot\n",
      "# print ['%.2f' % elem for elem in countsmatrix72tot]\"\"\""
     ],
     "language": "python",
     "metadata": {},
     "outputs": [
      {
       "output_type": "stream",
       "stream": "stdout",
       "text": [
        "0.0\n",
        "1.0"
       ]
      },
      {
       "output_type": "stream",
       "stream": "stdout",
       "text": [
        "\n",
        "0.0"
       ]
      },
      {
       "output_type": "stream",
       "stream": "stdout",
       "text": [
        "\n",
        "0.0"
       ]
      },
      {
       "output_type": "stream",
       "stream": "stdout",
       "text": [
        "\n",
        "0.0"
       ]
      },
      {
       "output_type": "stream",
       "stream": "stdout",
       "text": [
        "\n",
        "1.0"
       ]
      },
      {
       "output_type": "stream",
       "stream": "stdout",
       "text": [
        "\n",
        "0.0"
       ]
      },
      {
       "output_type": "stream",
       "stream": "stdout",
       "text": [
        "\n",
        "0.0"
       ]
      },
      {
       "output_type": "stream",
       "stream": "stdout",
       "text": [
        "\n",
        "0.0"
       ]
      },
      {
       "output_type": "stream",
       "stream": "stdout",
       "text": [
        "\n",
        "0.0"
       ]
      },
      {
       "output_type": "stream",
       "stream": "stdout",
       "text": [
        "\n",
        "1.0"
       ]
      },
      {
       "output_type": "stream",
       "stream": "stdout",
       "text": [
        "\n",
        "1.66666666667"
       ]
      },
      {
       "output_type": "stream",
       "stream": "stdout",
       "text": [
        "\n",
        "1.5"
       ]
      },
      {
       "output_type": "stream",
       "stream": "stdout",
       "text": [
        "\n",
        "2.33333333333"
       ]
      },
      {
       "output_type": "stream",
       "stream": "stdout",
       "text": [
        "\n",
        "3.0"
       ]
      },
      {
       "output_type": "stream",
       "stream": "stdout",
       "text": [
        "\n",
        "4.33333333333"
       ]
      },
      {
       "output_type": "stream",
       "stream": "stdout",
       "text": [
        "\n",
        "7.0"
       ]
      },
      {
       "output_type": "stream",
       "stream": "stdout",
       "text": [
        "\n",
        "4.75"
       ]
      },
      {
       "output_type": "stream",
       "stream": "stdout",
       "text": [
        "\n",
        "5.0"
       ]
      },
      {
       "output_type": "stream",
       "stream": "stdout",
       "text": [
        "\n",
        "4.0"
       ]
      },
      {
       "output_type": "stream",
       "stream": "stdout",
       "text": [
        "\n",
        "2.66666666667"
       ]
      },
      {
       "output_type": "stream",
       "stream": "stdout",
       "text": [
        "\n",
        "2.75"
       ]
      },
      {
       "output_type": "stream",
       "stream": "stdout",
       "text": [
        "\n",
        "3.0"
       ]
      },
      {
       "output_type": "stream",
       "stream": "stdout",
       "text": [
        "\n",
        "2.5"
       ]
      },
      {
       "output_type": "stream",
       "stream": "stdout",
       "text": [
        "\n",
        "3.25"
       ]
      },
      {
       "output_type": "stream",
       "stream": "stdout",
       "text": [
        "\n",
        "1.75"
       ]
      },
      {
       "output_type": "stream",
       "stream": "stdout",
       "text": [
        "\n",
        "3.5"
       ]
      },
      {
       "output_type": "stream",
       "stream": "stdout",
       "text": [
        "\n",
        "2.5"
       ]
      },
      {
       "output_type": "stream",
       "stream": "stdout",
       "text": [
        "\n",
        "4.0"
       ]
      },
      {
       "output_type": "stream",
       "stream": "stdout",
       "text": [
        "\n",
        "3.5"
       ]
      },
      {
       "output_type": "stream",
       "stream": "stdout",
       "text": [
        "\n",
        "2.25"
       ]
      },
      {
       "output_type": "stream",
       "stream": "stdout",
       "text": [
        "\n",
        "3.66666666667"
       ]
      },
      {
       "output_type": "stream",
       "stream": "stdout",
       "text": [
        "\n",
        "3.25"
       ]
      },
      {
       "output_type": "stream",
       "stream": "stdout",
       "text": [
        "\n",
        "3.0"
       ]
      },
      {
       "output_type": "stream",
       "stream": "stdout",
       "text": [
        "\n",
        "5.5"
       ]
      },
      {
       "output_type": "stream",
       "stream": "stdout",
       "text": [
        "\n",
        "5.25"
       ]
      },
      {
       "output_type": "stream",
       "stream": "stdout",
       "text": [
        "\n",
        "3.5"
       ]
      },
      {
       "output_type": "stream",
       "stream": "stdout",
       "text": [
        "\n",
        "5.0"
       ]
      },
      {
       "output_type": "stream",
       "stream": "stdout",
       "text": [
        "\n",
        "3.5"
       ]
      },
      {
       "output_type": "stream",
       "stream": "stdout",
       "text": [
        "\n",
        "5.33333333333"
       ]
      },
      {
       "output_type": "stream",
       "stream": "stdout",
       "text": [
        "\n",
        "1.75"
       ]
      },
      {
       "output_type": "stream",
       "stream": "stdout",
       "text": [
        "\n",
        "2.66666666667"
       ]
      },
      {
       "output_type": "stream",
       "stream": "stdout",
       "text": [
        "\n",
        "2.0"
       ]
      },
      {
       "output_type": "stream",
       "stream": "stdout",
       "text": [
        "\n",
        "2.0"
       ]
      },
      {
       "output_type": "stream",
       "stream": "stdout",
       "text": [
        "\n",
        "2.0"
       ]
      },
      {
       "output_type": "stream",
       "stream": "stdout",
       "text": [
        "\n",
        "1.33333333333"
       ]
      },
      {
       "output_type": "stream",
       "stream": "stdout",
       "text": [
        "\n",
        "0.0"
       ]
      },
      {
       "output_type": "stream",
       "stream": "stdout",
       "text": [
        "\n",
        "0.0"
       ]
      },
      {
       "output_type": "stream",
       "stream": "stdout",
       "text": [
        "\n",
        "0.0"
       ]
      },
      {
       "output_type": "stream",
       "stream": "stdout",
       "text": [
        "\n",
        "0.0"
       ]
      },
      {
       "output_type": "stream",
       "stream": "stdout",
       "text": [
        "\n",
        "0.0"
       ]
      },
      {
       "output_type": "stream",
       "stream": "stdout",
       "text": [
        "\n",
        "0.0"
       ]
      },
      {
       "output_type": "stream",
       "stream": "stdout",
       "text": [
        "\n",
        "0.0"
       ]
      },
      {
       "output_type": "stream",
       "stream": "stdout",
       "text": [
        "\n",
        "0.0"
       ]
      },
      {
       "output_type": "stream",
       "stream": "stdout",
       "text": [
        "\n",
        "0.0"
       ]
      },
      {
       "output_type": "stream",
       "stream": "stdout",
       "text": [
        "\n",
        "0.0"
       ]
      },
      {
       "output_type": "stream",
       "stream": "stdout",
       "text": [
        "\n",
        "1.0"
       ]
      },
      {
       "output_type": "stream",
       "stream": "stdout",
       "text": [
        "\n",
        "1.0"
       ]
      },
      {
       "output_type": "stream",
       "stream": "stdout",
       "text": [
        "\n",
        "1.5"
       ]
      },
      {
       "output_type": "stream",
       "stream": "stdout",
       "text": [
        "\n",
        "2.0"
       ]
      },
      {
       "output_type": "stream",
       "stream": "stdout",
       "text": [
        "\n",
        "2.0"
       ]
      },
      {
       "output_type": "stream",
       "stream": "stdout",
       "text": [
        "\n",
        "3.0"
       ]
      },
      {
       "output_type": "stream",
       "stream": "stdout",
       "text": [
        "\n",
        "3.75"
       ]
      },
      {
       "output_type": "stream",
       "stream": "stdout",
       "text": [
        "\n",
        "2.0"
       ]
      },
      {
       "output_type": "stream",
       "stream": "stdout",
       "text": [
        "\n",
        "1.75"
       ]
      },
      {
       "output_type": "stream",
       "stream": "stdout",
       "text": [
        "\n",
        "2.75"
       ]
      },
      {
       "output_type": "stream",
       "stream": "stdout",
       "text": [
        "\n",
        "1.66666666667"
       ]
      },
      {
       "output_type": "stream",
       "stream": "stdout",
       "text": [
        "\n",
        "1.5"
       ]
      },
      {
       "output_type": "stream",
       "stream": "stdout",
       "text": [
        "\n",
        "1.25"
       ]
      },
      {
       "output_type": "stream",
       "stream": "stdout",
       "text": [
        "\n",
        "1.33333333333"
       ]
      },
      {
       "output_type": "stream",
       "stream": "stdout",
       "text": [
        "\n",
        "1.5"
       ]
      },
      {
       "output_type": "stream",
       "stream": "stdout",
       "text": [
        "\n",
        "1.5"
       ]
      },
      {
       "output_type": "stream",
       "stream": "stdout",
       "text": [
        "\n",
        "1.0"
       ]
      },
      {
       "output_type": "stream",
       "stream": "stdout",
       "text": [
        "\n",
        "1.0"
       ]
      },
      {
       "output_type": "stream",
       "stream": "stdout",
       "text": [
        "\n",
        "2.0"
       ]
      },
      {
       "output_type": "stream",
       "stream": "stdout",
       "text": [
        "\n",
        "2.0"
       ]
      },
      {
       "output_type": "stream",
       "stream": "stdout",
       "text": [
        "\n",
        "1.0"
       ]
      },
      {
       "output_type": "stream",
       "stream": "stdout",
       "text": [
        "\n",
        "2.0"
       ]
      },
      {
       "output_type": "stream",
       "stream": "stdout",
       "text": [
        "\n",
        "3.33333333333"
       ]
      },
      {
       "output_type": "stream",
       "stream": "stdout",
       "text": [
        "\n",
        "0.0"
       ]
      },
      {
       "output_type": "stream",
       "stream": "stdout",
       "text": [
        "\n",
        "3.25"
       ]
      },
      {
       "output_type": "stream",
       "stream": "stdout",
       "text": [
        "\n",
        "2.0"
       ]
      },
      {
       "output_type": "stream",
       "stream": "stdout",
       "text": [
        "\n",
        "2.33333333333"
       ]
      },
      {
       "output_type": "stream",
       "stream": "stdout",
       "text": [
        "\n",
        "1.66666666667"
       ]
      },
      {
       "output_type": "stream",
       "stream": "stdout",
       "text": [
        "\n",
        "2.5"
       ]
      },
      {
       "output_type": "stream",
       "stream": "stdout",
       "text": [
        "\n",
        "5.33333333333"
       ]
      },
      {
       "output_type": "stream",
       "stream": "stdout",
       "text": [
        "\n",
        "1.5"
       ]
      },
      {
       "output_type": "stream",
       "stream": "stdout",
       "text": [
        "\n",
        "2.0"
       ]
      },
      {
       "output_type": "stream",
       "stream": "stdout",
       "text": [
        "\n",
        "1.5"
       ]
      },
      {
       "output_type": "stream",
       "stream": "stdout",
       "text": [
        "\n",
        "3.0"
       ]
      },
      {
       "output_type": "stream",
       "stream": "stdout",
       "text": [
        "\n",
        "1.0"
       ]
      },
      {
       "output_type": "stream",
       "stream": "stdout",
       "text": [
        "\n",
        "2.5"
       ]
      },
      {
       "output_type": "stream",
       "stream": "stdout",
       "text": [
        "\n",
        "0.0"
       ]
      },
      {
       "output_type": "stream",
       "stream": "stdout",
       "text": [
        "\n",
        "2.0"
       ]
      },
      {
       "output_type": "stream",
       "stream": "stdout",
       "text": [
        "\n",
        "0.0"
       ]
      },
      {
       "output_type": "stream",
       "stream": "stdout",
       "text": [
        "\n",
        "1.0"
       ]
      },
      {
       "output_type": "stream",
       "stream": "stdout",
       "text": [
        "\n",
        "0.0"
       ]
      },
      {
       "output_type": "stream",
       "stream": "stdout",
       "text": [
        "\n",
        "0.0"
       ]
      },
      {
       "output_type": "stream",
       "stream": "stdout",
       "text": [
        "\n",
        "0.0"
       ]
      },
      {
       "output_type": "stream",
       "stream": "stdout",
       "text": [
        "\n",
        "0.0"
       ]
      },
      {
       "output_type": "stream",
       "stream": "stdout",
       "text": [
        "\n",
        "0.0"
       ]
      },
      {
       "output_type": "stream",
       "stream": "stdout",
       "text": [
        "\n",
        "1.0"
       ]
      },
      {
       "output_type": "stream",
       "stream": "stdout",
       "text": [
        "\n",
        "0.0"
       ]
      },
      {
       "output_type": "stream",
       "stream": "stdout",
       "text": [
        "\n",
        "1.0"
       ]
      },
      {
       "output_type": "stream",
       "stream": "stdout",
       "text": [
        "\n",
        "0.0"
       ]
      },
      {
       "output_type": "stream",
       "stream": "stdout",
       "text": [
        "\n",
        "2.5"
       ]
      },
      {
       "output_type": "stream",
       "stream": "stdout",
       "text": [
        "\n",
        "2.33333333333"
       ]
      },
      {
       "output_type": "stream",
       "stream": "stdout",
       "text": [
        "\n",
        "3.66666666667"
       ]
      },
      {
       "output_type": "stream",
       "stream": "stdout",
       "text": [
        "\n",
        "4.75"
       ]
      },
      {
       "output_type": "stream",
       "stream": "stdout",
       "text": [
        "\n",
        "3.33333333333"
       ]
      },
      {
       "output_type": "stream",
       "stream": "stdout",
       "text": [
        "\n",
        "4.0"
       ]
      },
      {
       "output_type": "stream",
       "stream": "stdout",
       "text": [
        "\n",
        "4.0"
       ]
      },
      {
       "output_type": "stream",
       "stream": "stdout",
       "text": [
        "\n",
        "2.5"
       ]
      },
      {
       "output_type": "stream",
       "stream": "stdout",
       "text": [
        "\n",
        "2.66666666667"
       ]
      },
      {
       "output_type": "stream",
       "stream": "stdout",
       "text": [
        "\n",
        "2.33333333333"
       ]
      },
      {
       "output_type": "stream",
       "stream": "stdout",
       "text": [
        "\n",
        "1.0"
       ]
      },
      {
       "output_type": "stream",
       "stream": "stdout",
       "text": [
        "\n",
        "1.66666666667"
       ]
      },
      {
       "output_type": "stream",
       "stream": "stdout",
       "text": [
        "\n",
        "2.33333333333"
       ]
      },
      {
       "output_type": "stream",
       "stream": "stdout",
       "text": [
        "\n",
        "2.0"
       ]
      },
      {
       "output_type": "stream",
       "stream": "stdout",
       "text": [
        "\n",
        "1.5"
       ]
      },
      {
       "output_type": "stream",
       "stream": "stdout",
       "text": [
        "\n",
        "1.33333333333"
       ]
      },
      {
       "output_type": "stream",
       "stream": "stdout",
       "text": [
        "\n",
        "1.25"
       ]
      },
      {
       "output_type": "stream",
       "stream": "stdout",
       "text": [
        "\n",
        "1.4"
       ]
      },
      {
       "output_type": "stream",
       "stream": "stdout",
       "text": [
        "\n",
        "2.33333333333"
       ]
      },
      {
       "output_type": "stream",
       "stream": "stdout",
       "text": [
        "\n",
        "2.8"
       ]
      },
      {
       "output_type": "stream",
       "stream": "stdout",
       "text": [
        "\n",
        "3.5"
       ]
      },
      {
       "output_type": "stream",
       "stream": "stdout",
       "text": [
        "\n",
        "5.5"
       ]
      },
      {
       "output_type": "stream",
       "stream": "stdout",
       "text": [
        "\n",
        "2.4"
       ]
      },
      {
       "output_type": "stream",
       "stream": "stdout",
       "text": [
        "\n",
        "2.5"
       ]
      },
      {
       "output_type": "stream",
       "stream": "stdout",
       "text": [
        "\n",
        "3.25"
       ]
      },
      {
       "output_type": "stream",
       "stream": "stdout",
       "text": [
        "\n",
        "3.25"
       ]
      },
      {
       "output_type": "stream",
       "stream": "stdout",
       "text": [
        "\n",
        "2.75"
       ]
      },
      {
       "output_type": "stream",
       "stream": "stdout",
       "text": [
        "\n",
        "0.0"
       ]
      },
      {
       "output_type": "stream",
       "stream": "stdout",
       "text": [
        "\n",
        "2.0"
       ]
      },
      {
       "output_type": "stream",
       "stream": "stdout",
       "text": [
        "\n",
        "1.0"
       ]
      },
      {
       "output_type": "stream",
       "stream": "stdout",
       "text": [
        "\n",
        "2.0"
       ]
      },
      {
       "output_type": "stream",
       "stream": "stdout",
       "text": [
        "\n",
        "0.0"
       ]
      },
      {
       "output_type": "stream",
       "stream": "stdout",
       "text": [
        "\n",
        "2.0"
       ]
      },
      {
       "output_type": "stream",
       "stream": "stdout",
       "text": [
        "\n",
        "2.0"
       ]
      },
      {
       "output_type": "stream",
       "stream": "stdout",
       "text": [
        "\n",
        "0.0"
       ]
      },
      {
       "output_type": "stream",
       "stream": "stdout",
       "text": [
        "\n",
        "0.0"
       ]
      },
      {
       "output_type": "stream",
       "stream": "stdout",
       "text": [
        "\n",
        "0.0"
       ]
      },
      {
       "output_type": "stream",
       "stream": "stdout",
       "text": [
        "\n",
        "0.0"
       ]
      },
      {
       "output_type": "stream",
       "stream": "stdout",
       "text": [
        "\n",
        "0.0"
       ]
      },
      {
       "output_type": "stream",
       "stream": "stdout",
       "text": [
        "\n",
        "0.0"
       ]
      },
      {
       "output_type": "stream",
       "stream": "stdout",
       "text": [
        "\n",
        "0.0"
       ]
      },
      {
       "output_type": "stream",
       "stream": "stdout",
       "text": [
        "\n",
        "0.0"
       ]
      },
      {
       "output_type": "stream",
       "stream": "stdout",
       "text": [
        "\n",
        "0.0"
       ]
      },
      {
       "output_type": "stream",
       "stream": "stdout",
       "text": [
        "\n",
        "0.0"
       ]
      },
      {
       "output_type": "stream",
       "stream": "stdout",
       "text": [
        "\n",
        "2.25"
       ]
      },
      {
       "output_type": "stream",
       "stream": "stdout",
       "text": [
        "\n",
        "1.25"
       ]
      },
      {
       "output_type": "stream",
       "stream": "stdout",
       "text": [
        "\n",
        "2.5"
       ]
      },
      {
       "output_type": "stream",
       "stream": "stdout",
       "text": [
        "\n",
        "2.25"
       ]
      },
      {
       "output_type": "stream",
       "stream": "stdout",
       "text": [
        "\n",
        "3.33333333333"
       ]
      },
      {
       "output_type": "stream",
       "stream": "stdout",
       "text": [
        "\n",
        "6.2"
       ]
      },
      {
       "output_type": "stream",
       "stream": "stdout",
       "text": [
        "\n",
        "2.5"
       ]
      },
      {
       "output_type": "stream",
       "stream": "stdout",
       "text": [
        "\n",
        "4.2"
       ]
      },
      {
       "output_type": "stream",
       "stream": "stdout",
       "text": [
        "\n",
        "5.4"
       ]
      },
      {
       "output_type": "stream",
       "stream": "stdout",
       "text": [
        "\n",
        "2.25"
       ]
      },
      {
       "output_type": "stream",
       "stream": "stdout",
       "text": [
        "\n",
        "2.33333333333"
       ]
      },
      {
       "output_type": "stream",
       "stream": "stdout",
       "text": [
        "\n",
        "2.25"
       ]
      },
      {
       "output_type": "stream",
       "stream": "stdout",
       "text": [
        "\n",
        "1.5"
       ]
      },
      {
       "output_type": "stream",
       "stream": "stdout",
       "text": [
        "\n",
        "2.0"
       ]
      },
      {
       "output_type": "stream",
       "stream": "stdout",
       "text": [
        "\n",
        "1.6"
       ]
      },
      {
       "output_type": "stream",
       "stream": "stdout",
       "text": [
        "\n",
        "3.66666666667"
       ]
      },
      {
       "output_type": "stream",
       "stream": "stdout",
       "text": [
        "\n",
        "2.4"
       ]
      },
      {
       "output_type": "stream",
       "stream": "stdout",
       "text": [
        "\n",
        "2.0"
       ]
      },
      {
       "output_type": "stream",
       "stream": "stdout",
       "text": [
        "\n",
        "2.0"
       ]
      },
      {
       "output_type": "stream",
       "stream": "stdout",
       "text": [
        "\n",
        "1.0"
       ]
      },
      {
       "output_type": "stream",
       "stream": "stdout",
       "text": [
        "\n",
        "1.5"
       ]
      },
      {
       "output_type": "stream",
       "stream": "stdout",
       "text": [
        "\n",
        "3.8"
       ]
      },
      {
       "output_type": "stream",
       "stream": "stdout",
       "text": [
        "\n",
        "1.75"
       ]
      },
      {
       "output_type": "stream",
       "stream": "stdout",
       "text": [
        "\n",
        "4.8"
       ]
      },
      {
       "output_type": "stream",
       "stream": "stdout",
       "text": [
        "\n",
        "2.8"
       ]
      },
      {
       "output_type": "stream",
       "stream": "stdout",
       "text": [
        "\n",
        "3.75"
       ]
      },
      {
       "output_type": "stream",
       "stream": "stdout",
       "text": [
        "\n",
        "2.6"
       ]
      },
      {
       "output_type": "stream",
       "stream": "stdout",
       "text": [
        "\n",
        "1.5"
       ]
      },
      {
       "output_type": "stream",
       "stream": "stdout",
       "text": [
        "\n",
        "1.5"
       ]
      },
      {
       "output_type": "stream",
       "stream": "stdout",
       "text": [
        "\n",
        "1.0"
       ]
      },
      {
       "output_type": "stream",
       "stream": "stdout",
       "text": [
        "\n",
        "1.75"
       ]
      },
      {
       "output_type": "stream",
       "stream": "stdout",
       "text": [
        "\n",
        "1.5"
       ]
      },
      {
       "output_type": "stream",
       "stream": "stdout",
       "text": [
        "\n",
        "1.66666666667"
       ]
      },
      {
       "output_type": "stream",
       "stream": "stdout",
       "text": [
        "\n",
        "1.0"
       ]
      },
      {
       "output_type": "stream",
       "stream": "stdout",
       "text": [
        "\n",
        "2.5"
       ]
      },
      {
       "output_type": "stream",
       "stream": "stdout",
       "text": [
        "\n",
        "0.0"
       ]
      },
      {
       "output_type": "stream",
       "stream": "stdout",
       "text": [
        "\n",
        "1.5"
       ]
      },
      {
       "output_type": "stream",
       "stream": "stdout",
       "text": [
        "\n",
        "0.0"
       ]
      },
      {
       "output_type": "stream",
       "stream": "stdout",
       "text": [
        "\n",
        "0.0"
       ]
      },
      {
       "output_type": "stream",
       "stream": "stdout",
       "text": [
        "\n",
        "1.0"
       ]
      },
      {
       "output_type": "stream",
       "stream": "stdout",
       "text": [
        "\n",
        "1.0"
       ]
      },
      {
       "output_type": "stream",
       "stream": "stdout",
       "text": [
        "\n",
        "0.0"
       ]
      },
      {
       "output_type": "stream",
       "stream": "stdout",
       "text": [
        "\n",
        "0.0"
       ]
      },
      {
       "output_type": "stream",
       "stream": "stdout",
       "text": [
        "\n",
        "0.0"
       ]
      },
      {
       "output_type": "stream",
       "stream": "stdout",
       "text": [
        "\n",
        "0.0"
       ]
      },
      {
       "output_type": "stream",
       "stream": "stdout",
       "text": [
        "\n",
        "1.0"
       ]
      },
      {
       "output_type": "stream",
       "stream": "stdout",
       "text": [
        "\n",
        "1.5"
       ]
      },
      {
       "output_type": "stream",
       "stream": "stdout",
       "text": [
        "\n",
        "1.0"
       ]
      },
      {
       "output_type": "stream",
       "stream": "stdout",
       "text": [
        "\n",
        "2.66666666667"
       ]
      },
      {
       "output_type": "stream",
       "stream": "stdout",
       "text": [
        "\n",
        "1.4"
       ]
      },
      {
       "output_type": "stream",
       "stream": "stdout",
       "text": [
        "\n",
        "2.66666666667"
       ]
      },
      {
       "output_type": "stream",
       "stream": "stdout",
       "text": [
        "\n",
        "7.25"
       ]
      },
      {
       "output_type": "stream",
       "stream": "stdout",
       "text": [
        "\n",
        "2.0"
       ]
      },
      {
       "output_type": "stream",
       "stream": "stdout",
       "text": [
        "\n",
        "5.5"
       ]
      },
      {
       "output_type": "stream",
       "stream": "stdout",
       "text": [
        "\n",
        "5.25"
       ]
      },
      {
       "output_type": "stream",
       "stream": "stdout",
       "text": [
        "\n",
        "2.0"
       ]
      },
      {
       "output_type": "stream",
       "stream": "stdout",
       "text": [
        "\n",
        "3.33333333333"
       ]
      },
      {
       "output_type": "stream",
       "stream": "stdout",
       "text": [
        "\n",
        "1.5"
       ]
      },
      {
       "output_type": "stream",
       "stream": "stdout",
       "text": [
        "\n",
        "2.66666666667"
       ]
      },
      {
       "output_type": "stream",
       "stream": "stdout",
       "text": [
        "\n",
        "3.33333333333"
       ]
      },
      {
       "output_type": "stream",
       "stream": "stdout",
       "text": [
        "\n",
        "2.33333333333"
       ]
      },
      {
       "output_type": "stream",
       "stream": "stdout",
       "text": [
        "\n",
        "2.33333333333"
       ]
      },
      {
       "output_type": "stream",
       "stream": "stdout",
       "text": [
        "\n",
        "1.75"
       ]
      },
      {
       "output_type": "stream",
       "stream": "stdout",
       "text": [
        "\n",
        "3.33333333333"
       ]
      },
      {
       "output_type": "stream",
       "stream": "stdout",
       "text": [
        "\n",
        "2.5"
       ]
      },
      {
       "output_type": "stream",
       "stream": "stdout",
       "text": [
        "\n",
        "2.0"
       ]
      },
      {
       "output_type": "stream",
       "stream": "stdout",
       "text": [
        "\n",
        "2.33333333333"
       ]
      },
      {
       "output_type": "stream",
       "stream": "stdout",
       "text": [
        "\n",
        "3.75"
       ]
      },
      {
       "output_type": "stream",
       "stream": "stdout",
       "text": [
        "\n",
        "2.4"
       ]
      },
      {
       "output_type": "stream",
       "stream": "stdout",
       "text": [
        "\n",
        "3.6"
       ]
      },
      {
       "output_type": "stream",
       "stream": "stdout",
       "text": [
        "\n",
        "5.5"
       ]
      },
      {
       "output_type": "stream",
       "stream": "stdout",
       "text": [
        "\n",
        "3.66666666667"
       ]
      },
      {
       "output_type": "stream",
       "stream": "stdout",
       "text": [
        "\n",
        "3.66666666667"
       ]
      },
      {
       "output_type": "stream",
       "stream": "stdout",
       "text": [
        "\n",
        "1.0"
       ]
      },
      {
       "output_type": "stream",
       "stream": "stdout",
       "text": [
        "\n",
        "2.0"
       ]
      },
      {
       "output_type": "stream",
       "stream": "stdout",
       "text": [
        "\n",
        "2.0"
       ]
      },
      {
       "output_type": "stream",
       "stream": "stdout",
       "text": [
        "\n",
        "1.66666666667"
       ]
      },
      {
       "output_type": "stream",
       "stream": "stdout",
       "text": [
        "\n",
        "1.0"
       ]
      },
      {
       "output_type": "stream",
       "stream": "stdout",
       "text": [
        "\n",
        "1.0"
       ]
      },
      {
       "output_type": "stream",
       "stream": "stdout",
       "text": [
        "\n",
        "1.0"
       ]
      },
      {
       "output_type": "stream",
       "stream": "stdout",
       "text": [
        "\n",
        "1.33333333333"
       ]
      },
      {
       "output_type": "stream",
       "stream": "stdout",
       "text": [
        "\n",
        "1.0"
       ]
      },
      {
       "output_type": "stream",
       "stream": "stdout",
       "text": [
        "\n",
        "1.0"
       ]
      },
      {
       "output_type": "stream",
       "stream": "stdout",
       "text": [
        "\n",
        "1.0"
       ]
      },
      {
       "output_type": "stream",
       "stream": "stdout",
       "text": [
        "\n",
        "1.0"
       ]
      },
      {
       "output_type": "stream",
       "stream": "stdout",
       "text": [
        "\n",
        "0.0"
       ]
      },
      {
       "output_type": "stream",
       "stream": "stdout",
       "text": [
        "\n",
        "0.0"
       ]
      },
      {
       "output_type": "stream",
       "stream": "stdout",
       "text": [
        "\n",
        "0.0"
       ]
      },
      {
       "output_type": "stream",
       "stream": "stdout",
       "text": [
        "\n",
        "0.0"
       ]
      },
      {
       "output_type": "stream",
       "stream": "stdout",
       "text": [
        "\n",
        "0.0"
       ]
      },
      {
       "output_type": "stream",
       "stream": "stdout",
       "text": [
        "\n",
        "0.0"
       ]
      },
      {
       "output_type": "stream",
       "stream": "stdout",
       "text": [
        "\n",
        "0.0"
       ]
      },
      {
       "output_type": "stream",
       "stream": "stdout",
       "text": [
        "\n",
        "0.0"
       ]
      },
      {
       "output_type": "stream",
       "stream": "stdout",
       "text": [
        "\n",
        "0.0"
       ]
      },
      {
       "output_type": "stream",
       "stream": "stdout",
       "text": [
        "\n",
        "0.0"
       ]
      },
      {
       "output_type": "stream",
       "stream": "stdout",
       "text": [
        "\n",
        "1.0"
       ]
      },
      {
       "output_type": "stream",
       "stream": "stdout",
       "text": [
        "\n",
        "1.0"
       ]
      },
      {
       "output_type": "stream",
       "stream": "stdout",
       "text": [
        "\n",
        "2.0"
       ]
      },
      {
       "output_type": "stream",
       "stream": "stdout",
       "text": [
        "\n",
        "1.33333333333"
       ]
      },
      {
       "output_type": "stream",
       "stream": "stdout",
       "text": [
        "\n",
        "1.0"
       ]
      },
      {
       "output_type": "stream",
       "stream": "stdout",
       "text": [
        "\n",
        "1.5"
       ]
      },
      {
       "output_type": "stream",
       "stream": "stdout",
       "text": [
        "\n",
        "1.5"
       ]
      },
      {
       "output_type": "stream",
       "stream": "stdout",
       "text": [
        "\n",
        "2.66666666667"
       ]
      },
      {
       "output_type": "stream",
       "stream": "stdout",
       "text": [
        "\n",
        "3.0"
       ]
      },
      {
       "output_type": "stream",
       "stream": "stdout",
       "text": [
        "\n",
        "1.25"
       ]
      },
      {
       "output_type": "stream",
       "stream": "stdout",
       "text": [
        "\n",
        "2.33333333333"
       ]
      },
      {
       "output_type": "stream",
       "stream": "stdout",
       "text": [
        "\n",
        "1.66666666667"
       ]
      },
      {
       "output_type": "stream",
       "stream": "stdout",
       "text": [
        "\n",
        "2.33333333333"
       ]
      },
      {
       "output_type": "stream",
       "stream": "stdout",
       "text": [
        "\n",
        "4.66666666667"
       ]
      },
      {
       "output_type": "stream",
       "stream": "stdout",
       "text": [
        "\n",
        "2.0"
       ]
      },
      {
       "output_type": "stream",
       "stream": "stdout",
       "text": [
        "\n",
        "3.66666666667"
       ]
      },
      {
       "output_type": "stream",
       "stream": "stdout",
       "text": [
        "\n",
        "2.75"
       ]
      },
      {
       "output_type": "stream",
       "stream": "stdout",
       "text": [
        "\n",
        "2.0"
       ]
      },
      {
       "output_type": "stream",
       "stream": "stdout",
       "text": [
        "\n",
        "1.33333333333"
       ]
      },
      {
       "output_type": "stream",
       "stream": "stdout",
       "text": [
        "\n",
        "2.0"
       ]
      },
      {
       "output_type": "stream",
       "stream": "stdout",
       "text": [
        "\n",
        "3.0"
       ]
      },
      {
       "output_type": "stream",
       "stream": "stdout",
       "text": [
        "\n",
        "2.0"
       ]
      },
      {
       "output_type": "stream",
       "stream": "stdout",
       "text": [
        "\n",
        "1.66666666667"
       ]
      },
      {
       "output_type": "stream",
       "stream": "stdout",
       "text": [
        "\n",
        "1.0"
       ]
      },
      {
       "output_type": "stream",
       "stream": "stdout",
       "text": [
        "\n",
        "2.0"
       ]
      },
      {
       "output_type": "stream",
       "stream": "stdout",
       "text": [
        "\n",
        "1.0"
       ]
      },
      {
       "output_type": "stream",
       "stream": "stdout",
       "text": [
        "\n",
        "1.0"
       ]
      },
      {
       "output_type": "stream",
       "stream": "stdout",
       "text": [
        "\n",
        "2.0"
       ]
      },
      {
       "output_type": "stream",
       "stream": "stdout",
       "text": [
        "\n",
        "1.0"
       ]
      },
      {
       "output_type": "stream",
       "stream": "stdout",
       "text": [
        "\n",
        "1.0"
       ]
      },
      {
       "output_type": "stream",
       "stream": "stdout",
       "text": [
        "\n",
        "1.0"
       ]
      },
      {
       "output_type": "stream",
       "stream": "stdout",
       "text": [
        "\n",
        "1.0"
       ]
      },
      {
       "output_type": "stream",
       "stream": "stdout",
       "text": [
        "\n",
        "[[ 0.    0.    0.    0.    0.    1.    1.5   3.    7.    5.    2.67  3.\n",
        "   3.25  3.5   4.    2.25  3.25  5.5   3.5   3.5   1.75  2.    2.    0.  ]\n",
        " [ 0.    0.    0.    0.    0.    1.    1.5   2.    3.75  1.75  1.67  1.25\n",
        "   1.5   1.    2.    1.    3.33  3.25  2.33  2.5   1.5   1.5   1.    0.  ]\n",
        " [ 0.    0.    0.    0.    0.    0.    0.    2.33  4.75  4.    2.5   2.33\n",
        "   1.67  2.    1.33  1.4   2.8   5.5   2.5   3.25  0.    1.    0.    0.  ]\n",
        " [ 2.    0.    0.    0.    0.    0.    1.25  2.25  6.2   4.2   2.25  2.25\n",
        "   2.    3.67  2.    1.    3.8   4.8   3.75  1.5   1.    1.5   1.    0.  ]\n",
        " [ 0.    0.    1.    0.    0.    1.    1.    1.4   7.25  5.5   2.    1.5\n",
        "   3.33  2.33  3.33  2.    3.75  3.6   3.67  1.    2.    1.    1.    0.  ]\n",
        " [ 1.    1.    0.    0.    0.    0.    0.    1.    2.    1.    1.5   3.\n",
        "   2.33  2.33  2.    2.75  1.33  3.    1.67  2.    1.    1.    1.    0.  ]\n",
        " [ 0.    0.    0.    0.    0.    0.    0.    0.    0.    0.    0.    0.    0.\n",
        "   0.    0.    0.    0.    0.    0.    0.    0.    0.    0.    0.  ]]\n",
        "[[ 1.    0.    1.    0.    0.    1.67  2.33  4.33  4.75  4.    2.75  2.5\n",
        "   1.75  2.5   3.5   3.67  3.    5.25  5.    5.33  2.67  2.    1.33  0.  ]\n",
        " [ 0.    0.    0.    0.    0.    1.    2.    3.    2.    2.75  1.5   1.33\n",
        "   1.5   1.    2.    2.    0.    2.    1.67  5.33  2.    3.    2.5   0.  ]\n",
        " [ 2.    1.    0.    0.    1.    1.    2.5   3.67  3.33  4.    2.67  1.\n",
        "   2.33  1.5   1.25  2.33  3.5   2.4   3.25  2.75  2.    2.    2.    0.  ]\n",
        " [ 0.    0.    0.    0.    0.    2.25  2.5   3.33  2.5   5.4   2.33  1.5\n",
        "   1.6   2.4   2.    1.5   1.75  2.8   2.6   1.5   1.75  1.67  2.5   0.  ]\n",
        " [ 1.5   0.    1.    0.    0.    1.5   2.67  2.67  2.    5.25  3.33  2.67\n",
        "   2.33  1.75  2.5   2.33  2.4   5.5   3.67  2.    1.67  1.    1.33  0.  ]\n",
        " [ 1.    1.    0.    0.    0.    0.    0.    1.    1.33  1.5   2.67  1.25\n",
        "   1.67  4.67  3.67  2.    2.    2.    1.    1.    2.    1.    1.    0.  ]\n",
        " [ 0.    0.    0.    0.    0.    0.    0.    0.    0.    0.    0.    0.    0.\n",
        "   0.    0.    0.    0.    0.    0.    0.    0.    0.    0.    0.  ]]\n",
        "[[ 1.    0.    1.    0.    0.    0.67  0.83  1.33 -2.25 -1.    0.08 -0.5\n",
        "  -1.5  -1.   -0.5   1.42 -0.25 -0.25  1.5   1.83  0.92  0.   -0.67  0.  ]\n",
        " [ 0.    0.    0.    0.    0.    0.    0.5   1.   -1.75  1.   -0.17  0.08\n",
        "   0.    0.    0.    1.   -3.33 -1.25 -0.67  2.83  0.5   1.5   1.5   0.  ]\n",
        " [ 2.    1.    0.    0.    1.    1.    2.5   1.33 -1.42  0.    0.17 -1.33\n",
        "   0.67 -0.5  -0.08  0.93  0.7  -3.1   0.75 -0.5   2.    1.    2.    0.  ]\n",
        " [-2.    0.    0.    0.    0.    2.25  1.25  1.08 -3.7   1.2   0.08 -0.75\n",
        "  -0.4  -1.27  0.    0.5  -2.05 -2.   -1.15  0.    0.75  0.17  1.5   0.  ]\n",
        " [ 1.5   0.    0.    0.    0.    0.5   1.67  1.27 -5.25 -0.25  1.33  1.17\n",
        "  -1.   -0.58 -0.83  0.33 -1.35  1.9   0.    1.   -0.33  0.    0.33  0.  ]\n",
        " [ 0.    0.    0.    0.    0.    0.    0.    0.   -0.67  0.5   1.17 -1.75\n",
        "  -0.67  2.33  1.67 -0.75  0.67 -1.   -0.67 -1.    1.    0.    0.    0.  ]\n",
        " [ 0.    0.    0.    0.    0.    0.    0.    0.    0.    0.    0.    0.    0.\n",
        "   0.    0.    0.    0.    0.    0.    0.    0.    0.    0.    0.  ]]\n"
       ]
      }
     ],
     "prompt_number": 178
    },
    {
     "cell_type": "code",
     "collapsed": false,
     "input": [
      "start519, end519 = stationframes(bikedataweek1, 519)\n",
      "countsmatrix519start, countsmatrix519end = countsmatrixcreate(start519, end519)\n",
      "\n",
      "countsmatrix519net = countsmatrix519end-countsmatrix519start\n",
      "for x in range(0,7):\n",
      "    print countsmatrix519net[x,7]\n",
      "for x in range(0,7):\n",
      "    print countsmatrix519net[x,8]\n",
      "for x in range(0,7):\n",
      "    print countsmatrix519net[x,9]"
     ],
     "language": "python",
     "metadata": {},
     "outputs": [
      {
       "output_type": "stream",
       "stream": "stdout",
       "text": [
        "-3.0\n",
        "-6.0\n",
        "-1.0\n",
        "-12.0\n",
        "0.0\n",
        "0.0\n",
        "0.0\n",
        "-6.0\n",
        "-16.0\n",
        "-2.0\n",
        "-12.0\n",
        "-4.0\n",
        "0.0\n",
        "0.0\n",
        "-3.0\n",
        "-1.0\n",
        "-1.0\n",
        "-3.0\n",
        "0.0\n",
        "-1.0\n",
        "0.0\n"
       ]
      }
     ],
     "prompt_number": 180
    },
    {
     "cell_type": "code",
     "collapsed": false,
     "input": [
      "start72.columns\n",
      "end72.columns"
     ],
     "language": "python",
     "metadata": {},
     "outputs": [
      {
       "metadata": {},
       "output_type": "pyout",
       "prompt_number": 73,
       "text": [
        "Index([u'duration', u'start', u'stop', u'startid', u'startname', u'startlat', u'startlong', u'endid', u'endname', u'endlat', u'endlong', u'bikeid', u'usertype', u'birthyr', u'gender'], dtype='object')"
       ]
      }
     ],
     "prompt_number": 73
    },
    {
     "cell_type": "code",
     "collapsed": false,
     "input": [
      "countsmatrix72tot = countsmatrix72end - countsmatrix72\n",
      "np.set_printoptions(precision=2)\n",
      "print countsmatrix72tot\n",
      "# print ['%.2f' % elem for elem in countsmatrix72tot]"
     ],
     "language": "python",
     "metadata": {},
     "outputs": [
      {
       "output_type": "stream",
       "stream": "stdout",
       "text": [
        "[[ 1.    0.    1.    0.    0.    0.67  0.83  1.33 -2.25 -1.    0.08 -0.5\n",
        "  -1.5  -1.   -0.5   1.42 -0.25 -0.25  1.5   1.83  0.92  0.   -0.67  0.  ]\n",
        " [ 0.    0.    0.    0.    0.    0.    0.5   1.   -1.75  1.   -0.17  0.08\n",
        "   0.    0.    0.    1.   -3.33 -1.25 -0.67  2.83  0.5   1.5   1.5   0.  ]\n",
        " [ 2.    1.    0.    0.    1.    1.    2.5   1.33 -1.42  0.    0.17 -1.33\n",
        "   0.67 -0.5  -0.08  0.93  0.7  -3.1   0.75 -0.5   2.    1.    2.    0.  ]\n",
        " [-2.    0.    0.    0.    0.    2.25  1.25  1.08 -3.7   1.2   0.08 -0.75\n",
        "  -0.4  -1.27  0.    0.5  -2.05 -2.   -1.15  0.    0.75  0.17  1.5   0.  ]\n",
        " [ 1.5   0.    0.    0.    0.    0.5   1.67  1.27 -5.25 -0.25  1.33  1.17\n",
        "  -1.   -0.58 -0.83  0.33 -1.35  1.9   0.    1.   -0.33  0.    0.33  0.  ]\n",
        " [ 0.    0.    0.    0.    0.    0.    0.    0.   -0.67  0.5   1.17 -1.75\n",
        "  -0.67  2.33  1.67 -0.75  0.67 -1.   -0.67 -1.    1.    0.    0.    0.  ]\n",
        " [ 0.    0.    0.    0.    0.    0.    0.    0.    0.    0.    0.    0.    0.\n",
        "   0.    0.    0.    0.    0.    0.    0.    0.    0.    0.    0.  ]]\n"
       ]
      }
     ],
     "prompt_number": 151
    },
    {
     "cell_type": "code",
     "collapsed": false,
     "input": [
      "bikedataweek1"
     ],
     "language": "python",
     "metadata": {},
     "outputs": []
    },
    {
     "cell_type": "code",
     "collapsed": false,
     "input": [
      "y=0\n",
      "while y==0:\n",
      "    for x in range(len(bikedata.start)):\n",
      "        if dateparser.parse(bikedata.start[x]).day == 8:\n",
      "            print bikedata.index[x]\n",
      "            y=1\n",
      "\n",
      "print bikedata.start[36549]\n",
      "print bikedata.start[36550]\n",
      "bikedataweek1 = bikedata[bikedata.index<36550]\n",
      "print bikedataweek1[36548:36558]    "
     ],
     "language": "python",
     "metadata": {},
     "outputs": [
      {
       "output_type": "stream",
       "stream": "stdout",
       "text": [
        "2014-01-07 23:59:22\n",
        "2014-01-08 00:00:10\n",
        "       duration                start                 stop  startid  \\\n",
        "36548       530  2014-01-07 23:58:37  2014-01-08 00:07:27      312   \n",
        "36549       314  2014-01-07 23:59:22  2014-01-08 00:04:36       83   \n",
        "\n",
        "                           startname   startlat  startlong  endid  \\\n",
        "36548        Allen St & E Houston St  40.722055 -73.989111    408   \n",
        "36549  Atlantic Ave & Fort Greene Pl  40.683826 -73.976323    284   \n",
        "\n",
        "                     endname     endlat    endlong  bikeid    usertype  \\\n",
        "36548  Market St & Cherry St  40.710762 -73.994004   17423  Subscriber   \n",
        "36549  Greenwich Ave & 8 Ave  40.739017 -74.002638   18356  Subscriber   \n",
        "\n",
        "      birthyr  gender  \n",
        "36548    1958       1  \n",
        "36549    1922       1  \n",
        "\n",
        "[2 rows x 15 columns]\n"
       ]
      }
     ],
     "prompt_number": 143
    },
    {
     "cell_type": "code",
     "collapsed": false,
     "input": [
      "z = 0\n",
      "for x in range(0,6):\n",
      "    for y in range(0,23):\n",
      "        z = z + countsmatrix72[x][y]\n",
      "        \n",
      "print z\n",
      "print len(start72)\n",
      "print len(start72)/z\n",
      "print 31/7"
     ],
     "language": "python",
     "metadata": {},
     "outputs": [
      {
       "output_type": "stream",
       "stream": "stdout",
       "text": [
        "253.866666667\n",
        "924\n",
        "3.63970588235\n",
        "4\n"
       ]
      }
     ],
     "prompt_number": 114
    },
    {
     "cell_type": "code",
     "collapsed": false,
     "input": [
      "# FROM THIS DATA, STATION 519 IS #1 IN JANUARY 2014\n",
      "# IT HAS 226 MORE DEPARTURES THAN ARRIVALS\n",
      "startidcountlist = bikedata.groupby(['startid']).startid.count()\n",
      "startidcountlist.sort()\n",
      "print startidcountlist[0:3]\n",
      "print len(startidcountlist)\n",
      "print startidcountlist[325:330]\n",
      "endidcountlist = bikedata.groupby(['endid']).endid.count()\n",
      "endidcountlist.sort()\n",
      "print endidcountlist[0:3]\n",
      "print len(endidcountlist)\n",
      "print endidcountlist[325:330]\n",
      "\n",
      "print bikedataweek1.head()"
     ],
     "language": "python",
     "metadata": {},
     "outputs": []
    },
    {
     "cell_type": "raw",
     "metadata": {},
     "source": [
      "The Pershing Square station, #519, at E. 33rd St. and 5th Ave, has 38 docks. To lose over 226 bikes in the course of a month, it had to be fully restocked a minimum of 6 times (6*38 = 228 (>226)). \n",
      "\n",
      "Station 492 = W. 33rd & 7th (close to Penn Station)\n",
      "Station 519 = E. 33rd & 5th (very popular)"
     ]
    },
    {
     "cell_type": "code",
     "collapsed": false,
     "input": [
      "start492, end492 = stationframes(bikedataweek1, 492)\n",
      "start519, end519 = stationframes(bikedataweek1, 519)"
     ],
     "language": "python",
     "metadata": {},
     "outputs": [],
     "prompt_number": 174
    },
    {
     "cell_type": "code",
     "collapsed": false,
     "input": [
      "for x in range(1000,1030):\n",
      "    print bikedataweek1.index[x], bikedataweek1.startname[x], bikedataweek1.startid[x]"
     ],
     "language": "python",
     "metadata": {},
     "outputs": [
      {
       "output_type": "stream",
       "stream": "stdout",
       "text": [
        "1000 Little West St & 1 Pl 2008\n",
        "1001 6 Ave & Broome St 2004\n",
        "1002 5 Ave & E 29 St 474\n",
        "1003 8 Ave & W 31 St 521\n",
        "1004 5 Ave & E 29 St 474\n",
        "1005 E 20 St & FDR Drive 487\n",
        "1006 Washington Pl & 6 Ave 369\n",
        "1007 Perry St & Bleecker St 247\n",
        "1008 Norfolk St & Broome St 311\n",
        "1009 Hudson St & Reade St 146\n",
        "1010 Sullivan St & Washington Sq 336\n",
        "1011 E 16 St & 5 Ave 496\n",
        "1012 W 45 St & 8 Ave 2021\n",
        "1013 Cumberland St & Lafayette Ave 416\n",
        "1014 Henry St & Grand St 502\n",
        "1015 W 4 St & 7 Ave S 380\n",
        "1016 Broadway & E 14 St 285\n",
        "1017 Madison St & Clinton St 340\n",
        "1018 9 Ave & W 45 St 479\n",
        "1019 Clinton Ave & Myrtle Ave 366\n",
        "1020 W 33 St & 7 Ave 492\n",
        "1021 Lexington Ave & E 24 St 537\n",
        "1022 2 Ave & E 31 St 528\n",
        "1023 E 19 St & 3 Ave 325\n",
        "1024 E 14 St & Avenue B 511\n",
        "1025 Broadway & W 29 St 486\n",
        "1026 Allen St & Hester St 361\n",
        "1027 9 Ave & W 45 St 479\n",
        "1028 10 Ave & W 28 St 489\n",
        "1029 Barclay St & Church St 417\n"
       ]
      }
     ],
     "prompt_number": 173
    },
    {
     "cell_type": "code",
     "collapsed": false,
     "input": [
      "Janstartcount = Counter(bikedata.startid)\n",
      "Janendcount = Counter(bikedata.endid)\n",
      "Jandiff = Janendcount - Janstartcount\n",
      "print Jandiff\n",
      "# STATION 497 HAS THE LARGEST DIFF IN JANUARY\n",
      "# stationidset = set(bikedata.startid, bikedata.endid)"
     ],
     "language": "python",
     "metadata": {},
     "outputs": [
      {
       "ename": "TypeError",
       "evalue": "unhashable type",
       "output_type": "pyerr",
       "traceback": [
        "\u001b[1;31m---------------------------------------------------------------------------\u001b[0m\n\u001b[1;31mTypeError\u001b[0m                                 Traceback (most recent call last)",
        "\u001b[1;32m<ipython-input-198-a36204db30e7>\u001b[0m in \u001b[0;36m<module>\u001b[1;34m()\u001b[0m\n\u001b[0;32m      5\u001b[0m \u001b[1;31m# STATION 497 HAS THE LARGEST DIFF IN JANUARY\u001b[0m\u001b[1;33m\u001b[0m\u001b[1;33m\u001b[0m\u001b[0m\n\u001b[0;32m      6\u001b[0m \u001b[1;31m# stationidset = set(bikedata.startid, bikedata.endid)\u001b[0m\u001b[1;33m\u001b[0m\u001b[1;33m\u001b[0m\u001b[0m\n\u001b[1;32m----> 7\u001b[1;33m \u001b[1;32mprint\u001b[0m \u001b[0mJanstartcount\u001b[0m\u001b[1;33m[\u001b[0m\u001b[1;36m0\u001b[0m\u001b[1;33m:\u001b[0m\u001b[1;36m5\u001b[0m\u001b[1;33m]\u001b[0m\u001b[1;33m\u001b[0m\u001b[0m\n\u001b[0m",
        "\u001b[1;31mTypeError\u001b[0m: unhashable type"
       ]
      },
      {
       "output_type": "stream",
       "stream": "stdout",
       "text": [
        "Counter({497: 322, 477: 290, 348: 235, 352: 231, 324: 183, 285: 175, 482: 167, 152: 162, 514: 159, 464: 158, 439: 153, 463: 147, 259: 136, 401: 135, 404: 126, 529: 111, 503: 111, 3002: 109, 128: 107, 2010: 100, 521: 99, 308: 96, 427: 96, 127: 95, 351: 94, 492: 89, 368: 88, 382: 88, 516: 83, 377: 83, 488: 83, 496: 83, 531: 82, 359: 82, 236: 81, 303: 81, 434: 79, 284: 76, 297: 73, 309: 71, 466: 70, 305: 69, 336: 69, 403: 64, 537: 63, 2004: 63, 168: 62, 304: 62, 276: 61, 375: 61, 441: 60, 546: 59, 254: 59, 315: 58, 527: 57, 499: 56, 2022: 55, 345: 54, 508: 53, 402: 52, 493: 51, 82: 50, 462: 50, 334: 49, 344: 49, 483: 49, 337: 48, 484: 48, 467: 47, 296: 46, 327: 45, 426: 44, 438: 44, 539: 40, 300: 40, 318: 40, 405: 40, 217: 39, 280: 39, 398: 39, 415: 39, 525: 38, 383: 38, 279: 37, 137: 36, 2000: 36, 257: 34, 306: 34, 313: 34, 540: 33, 480: 33, 524: 31, 323: 31, 534: 30, 271: 30, 357: 29, 417: 29, 453: 29, 502: 29, 268: 28, 445: 28, 458: 28, 471: 28, 242: 27, 290: 27, 312: 27, 274: 25, 392: 25, 408: 25, 414: 25, 281: 23, 151: 22, 223: 22, 385: 22, 459: 22, 264: 21, 218: 20, 260: 20, 476: 20, 72: 19, 298: 19, 354: 19, 448: 19, 460: 19, 263: 18, 253: 17, 346: 17, 250: 16, 418: 16, 532: 15, 147: 15, 251: 15, 455: 15, 342: 13, 422: 13, 454: 13, 247: 12, 278: 12, 326: 12, 435: 12, 478: 12, 2012: 11, 2002: 11, 409: 11, 411: 11, 446: 11, 291: 10, 389: 9, 282: 8, 319: 8, 225: 7, 2001: 7, 2008: 7, 487: 6, 536: 5, 146: 5, 157: 5, 116: 4, 2009: 4, 275: 4, 361: 4, 473: 4, 161: 3, 237: 3, 510: 3, 431: 2, 443: 2, 2005: 2, 353: 1, 504: 1})\n"
       ]
      }
     ],
     "prompt_number": 198
    },
    {
     "cell_type": "code",
     "collapsed": false,
     "input": [
      "I ran all of these\n",
      "stationidset0713 = set(bikedata0713.startid)|set(bikedata0713.endid)\n",
      "stationidset0813 = set(bikedata0813.startid)|set(bikedata0813.endid)\n",
      "stationidset0913 = set(bikedata0913.startid)|set(bikedata0913.endid)\n",
      "stationidset1013 = set(bikedata1013.startid)|set(bikedata1013.endid)\n",
      "stationidset1113 = set(bikedata1113.startid)|set(bikedata1113.endid)\n",
      "stationidset1213 = set(bikedata1213.startid)|set(bikedata1213.endid)\n",
      "stationidset0114 = set(bikedata0114.startid)|set(bikedata0114.endid)\n",
      "stationidset0214 = set(bikedata0214.startid)|set(bikedata0214.endid)\n",
      "\n",
      "stationidset = stationidset0713 | stationidset0813 | stationidset0913 | stationidset1013 \\\n",
      "                | stationidset1113 | stationidset1213 | stationidset0114 | stationidset0214\n",
      "\n",
      "print stationidset\n",
      "print len(stationidset0713), len(stationidset0214), len(stationidset)\n"
     ],
     "language": "python",
     "metadata": {},
     "outputs": [
      {
       "output_type": "stream",
       "stream": "stdout",
       "text": [
        "set([72, 79, 82, 83, 116, 119, 120, 127, 128, 137, 143, 144, 146, 147, 150, 151, 152, 153, 157, 160, 161, 164, 167, 168, 173, 174, 195, 212, 216, 217, 218, 223, 224, 225, 228, 229, 232, 233, 236, 237, 238, 239, 241, 242, 243, 244, 245, 247, 248, 249, 250, 251, 252, 253, 254, 257, 258, 259, 260, 261, 262, 263, 264, 265, 266, 267, 268, 270, 271, 274, 275, 276, 278, 279, 280, 281, 282, 284, 285, 289, 290, 291, 293, 294, 295, 296, 297, 298, 300, 301, 302, 303, 304, 305, 306, 307, 308, 309, 310, 311, 312, 313, 314, 315, 316, 317, 318, 319, 320, 321, 322, 323, 324, 325, 326, 327, 328, 329, 330, 331, 332, 334, 335, 336, 337, 339, 340, 341, 342, 343, 344, 345, 346, 347, 348, 349, 350, 351, 352, 353, 354, 355, 356, 357, 358, 359, 360, 361, 362, 363, 364, 365, 366, 367, 368, 369, 372, 373, 375, 376, 377, 379, 380, 382, 383, 384, 385, 386, 387, 388, 389, 390, 391, 392, 393, 394, 395, 396, 397, 398, 399, 400, 401, 402, 403, 404, 405, 406, 407, 408, 409, 410, 411, 412, 414, 415, 416, 417, 418, 419, 420, 421, 422, 423, 426, 427, 428, 430, 431, 432, 433, 434, 435, 436, 437, 438, 439, 440, 441, 442, 443, 444, 445, 446, 447, 448, 449, 450, 453, 454, 455, 456, 457, 458, 459, 460, 461, 462, 463, 464, 465, 466, 467, 468, 469, 470, 471, 472, 473, 474, 475, 476, 477, 478, 479, 480, 481, 482, 483, 484, 485, 486, 487, 488, 489, 490, 492, 493, 494, 495, 496, 497, 498, 499, 500, 501, 502, 503, 504, 505, 507, 508, 509, 510, 511, 512, 513, 514, 515, 516, 517, 518, 519, 520, 521, 522, 523, 524, 525, 526, 527, 528, 529, 531, 532, 533, 534, 536, 537, 538, 539, 540, 545, 546, 3002, 2000, 2001, 2002, 2003, 2004, 2005, 2006, 2008, 2009, 2010, 2012, 2017, 2021, 2022, 2023])\n",
        "329 329 330\n"
       ]
      },
      {
       "metadata": {},
       "output_type": "pyout",
       "prompt_number": 233,
       "text": [
        "'Janstartcount = Counter(bikedata.startid)\\nJanendcount = Counter(bikedata.endid)\\nJandiff = Janendcount - Janstartcount\\nstationidset = set(bikedata.startid, bikedata.endid)'"
       ]
      }
     ],
     "prompt_number": 233
    },
    {
     "cell_type": "raw",
     "metadata": {},
     "source": [
      "To make a data frame with station names as indices and counts as values:\n",
      "Use \"Counter\" with station names as 'indices' and counts as values.\n",
      "Use \"set\" to get lists of station names, and combine the sets."
     ]
    },
    {
     "cell_type": "code",
     "collapsed": false,
     "input": [
      "# Trip counts by station by month\n",
      "Julstartcount = Counter(bikedata0713.startid)\n",
      "Julendcount = Counter(bikedata0713.endid)\n",
      "Juldiffcount = Julendcount - Julstartcount\n",
      "Augstartcount = Counter(bikedata0813.startid)\n",
      "Augendcount = Counter(bikedata0813.endid)\n",
      "Augdiffcount = Augendcount - Augstartcount\n",
      "Sepstartcount = Counter(bikedata0913.startid)\n",
      "Sependcount = Counter(bikedata0913.endid)\n",
      "Sepdiffcount = Sependcount - Sepstartcount\n",
      "Octstartcount = Counter(bikedata1013.startid)\n",
      "Octendcount = Counter(bikedata1013.endid)\n",
      "Octdiffcount = Octendcount - Octstartcount\n",
      "Novstartcount = Counter(bikedata1113.startid)\n",
      "Novendcount = Counter(bikedata1113.endid)\n",
      "Novdiffcount = Novendcount - Novstartcount\n",
      "Decstartcount = Counter(bikedata1213.startid)\n",
      "Decendcount = Counter(bikedata1213.endid)\n",
      "Decdiffcount = Decendcount - Decstartcount\n",
      "Janstartcount = Counter(bikedata0114.startid)\n",
      "Janendcount = Counter(bikedata0114.endid)\n",
      "Jandiffcount = Janendcount - Janstartcount\n",
      "Febstartcount = Counter(bikedata0214.startid)\n",
      "Febendcount = Counter(bikedata0214.endid)\n",
      "Febdiffcount = Febendcount - Febstartcount"
     ],
     "language": "python",
     "metadata": {},
     "outputs": [],
     "prompt_number": 247
    },
    {
     "cell_type": "code",
     "collapsed": false,
     "input": [
      "comingsandgoings = pd.DataFrame(index=stationidset, \n",
      "                                columns=['Julstart', 'Julend', 'Juldiff', 'Augstart', 'Augend', 'Augdiff',\n",
      "                                        'Sepstart', 'Sepend', 'Sepdiff', 'Octstart', 'Octend', 'Octdiff',\n",
      "                                        'Novstart', 'Novend', 'Novdiff', 'Decstart', 'Decend', 'Decdiff',\n",
      "                                        'Janstart', 'Janend', 'Jandiff', 'Febstart', 'Febend', 'Febdiff',\n",
      "                                        'Total', 'Totdiff'])\n",
      "                                                            \n",
      "comingsandgoings.head()\n",
      "\n",
      "for x in comingsandgoings.index:\n",
      "    comingsandgoings.Julstart[x] = Julstartcount[x]\n",
      "    comingsandgoings.Julend[x] = Julendcount[x]\n",
      "    comingsandgoings.Augstart[x] = Augstartcount[x]\n",
      "    comingsandgoings.Augend[x] = Augendcount[x]\n",
      "    comingsandgoings.Sepstart[x] = Sepstartcount[x]\n",
      "    comingsandgoings.Sepend[x] = Sependcount[x]\n",
      "    comingsandgoings.Octstart[x] = Octstartcount[x]\n",
      "    comingsandgoings.Octend[x] = Octendcount[x]\n",
      "    comingsandgoings.Novstart[x] = Novstartcount[x]\n",
      "    comingsandgoings.Novend[x] = Novendcount[x]\n",
      "    comingsandgoings.Decstart[x] = Decstartcount[x]\n",
      "    comingsandgoings.Decend[x] = Decendcount[x]\n",
      "    comingsandgoings.Janstart[x] = Janstartcount[x]\n",
      "    comingsandgoings.Janend[x] = Janendcount[x]\n",
      "    comingsandgoings.Febstart[x] = Febstartcount[x]\n",
      "    comingsandgoings.Febend[x] = Febendcount[x]"
     ],
     "language": "python",
     "metadata": {},
     "outputs": [
      {
       "metadata": {},
       "output_type": "pyout",
       "prompt_number": 248,
       "text": [
        "\"for letter in 'abcde':\\n    print '%s : %d' % (letter, c[letter])\""
       ]
      }
     ],
     "prompt_number": 248
    },
    {
     "cell_type": "code",
     "collapsed": false,
     "input": [
      "comingsandgoings.head()"
     ],
     "language": "python",
     "metadata": {},
     "outputs": [
      {
       "html": [
        "<div style=\"max-height:1000px;max-width:1500px;overflow:auto;\">\n",
        "<table border=\"1\" class=\"dataframe\">\n",
        "  <thead>\n",
        "    <tr style=\"text-align: right;\">\n",
        "      <th></th>\n",
        "      <th>Julstart</th>\n",
        "      <th>Julend</th>\n",
        "      <th>Juldiff</th>\n",
        "      <th>Augstart</th>\n",
        "      <th>Augend</th>\n",
        "      <th>Augdiff</th>\n",
        "      <th>Sepstart</th>\n",
        "      <th>Sepend</th>\n",
        "      <th>Sepdiff</th>\n",
        "      <th>Octstart</th>\n",
        "      <th>Octend</th>\n",
        "      <th>Octdiff</th>\n",
        "      <th>Novstart</th>\n",
        "      <th>Novend</th>\n",
        "      <th>Novdiff</th>\n",
        "      <th>Decstart</th>\n",
        "      <th>Decend</th>\n",
        "      <th>Decdiff</th>\n",
        "      <th>Janstart</th>\n",
        "      <th>Janend</th>\n",
        "      <th></th>\n",
        "    </tr>\n",
        "  </thead>\n",
        "  <tbody>\n",
        "    <tr>\n",
        "      <th>72 </th>\n",
        "      <td> 3575</td>\n",
        "      <td> 3508</td>\n",
        "      <td>   0</td>\n",
        "      <td> 3675</td>\n",
        "      <td> 3922</td>\n",
        "      <td> 247</td>\n",
        "      <td> 3153</td>\n",
        "      <td> 3498</td>\n",
        "      <td> 345</td>\n",
        "      <td> 3325</td>\n",
        "      <td> 3954</td>\n",
        "      <td> 629</td>\n",
        "      <td> 2122</td>\n",
        "      <td> 2199</td>\n",
        "      <td> 77</td>\n",
        "      <td> 1213</td>\n",
        "      <td> 1269</td>\n",
        "      <td> 56</td>\n",
        "      <td>  924</td>\n",
        "      <td>  943</td>\n",
        "      <td>...</td>\n",
        "    </tr>\n",
        "    <tr>\n",
        "      <th>79 </th>\n",
        "      <td> 5034</td>\n",
        "      <td> 5131</td>\n",
        "      <td>  97</td>\n",
        "      <td> 4588</td>\n",
        "      <td> 4514</td>\n",
        "      <td>   0</td>\n",
        "      <td> 2616</td>\n",
        "      <td> 2550</td>\n",
        "      <td>   0</td>\n",
        "      <td> 2597</td>\n",
        "      <td> 2623</td>\n",
        "      <td>  26</td>\n",
        "      <td> 1686</td>\n",
        "      <td> 1748</td>\n",
        "      <td> 62</td>\n",
        "      <td>  995</td>\n",
        "      <td> 1024</td>\n",
        "      <td> 29</td>\n",
        "      <td>  617</td>\n",
        "      <td>  609</td>\n",
        "      <td>...</td>\n",
        "    </tr>\n",
        "    <tr>\n",
        "      <th>82 </th>\n",
        "      <td> 1141</td>\n",
        "      <td> 1086</td>\n",
        "      <td>   0</td>\n",
        "      <td> 1406</td>\n",
        "      <td> 1350</td>\n",
        "      <td>   0</td>\n",
        "      <td> 1393</td>\n",
        "      <td> 1385</td>\n",
        "      <td>   0</td>\n",
        "      <td> 1236</td>\n",
        "      <td> 1213</td>\n",
        "      <td>   0</td>\n",
        "      <td>  886</td>\n",
        "      <td>  886</td>\n",
        "      <td>  0</td>\n",
        "      <td>  558</td>\n",
        "      <td>  582</td>\n",
        "      <td> 24</td>\n",
        "      <td>  356</td>\n",
        "      <td>  406</td>\n",
        "      <td>...</td>\n",
        "    </tr>\n",
        "    <tr>\n",
        "      <th>83 </th>\n",
        "      <td> 1589</td>\n",
        "      <td> 1889</td>\n",
        "      <td> 300</td>\n",
        "      <td> 1757</td>\n",
        "      <td> 2045</td>\n",
        "      <td> 288</td>\n",
        "      <td> 1689</td>\n",
        "      <td> 1827</td>\n",
        "      <td> 138</td>\n",
        "      <td> 2142</td>\n",
        "      <td> 2115</td>\n",
        "      <td>   0</td>\n",
        "      <td> 1074</td>\n",
        "      <td> 1151</td>\n",
        "      <td> 77</td>\n",
        "      <td>  726</td>\n",
        "      <td>  669</td>\n",
        "      <td>  0</td>\n",
        "      <td>  444</td>\n",
        "      <td>  427</td>\n",
        "      <td>...</td>\n",
        "    </tr>\n",
        "    <tr>\n",
        "      <th>116</th>\n",
        "      <td> 3521</td>\n",
        "      <td> 3388</td>\n",
        "      <td>   0</td>\n",
        "      <td> 5107</td>\n",
        "      <td> 5081</td>\n",
        "      <td>   0</td>\n",
        "      <td> 5982</td>\n",
        "      <td> 5769</td>\n",
        "      <td>   0</td>\n",
        "      <td> 6376</td>\n",
        "      <td> 6419</td>\n",
        "      <td>  43</td>\n",
        "      <td> 4348</td>\n",
        "      <td> 4341</td>\n",
        "      <td>  0</td>\n",
        "      <td> 2763</td>\n",
        "      <td> 2805</td>\n",
        "      <td> 42</td>\n",
        "      <td> 1919</td>\n",
        "      <td> 1923</td>\n",
        "      <td>...</td>\n",
        "    </tr>\n",
        "  </tbody>\n",
        "</table>\n",
        "<p>5 rows \u00d7 26 columns</p>\n",
        "</div>"
       ],
       "metadata": {},
       "output_type": "pyout",
       "prompt_number": 250,
       "text": [
        "    Julstart Julend Juldiff Augstart Augend Augdiff Sepstart Sepend Sepdiff  \\\n",
        "72      3575   3508       0     3675   3922     247     3153   3498     345   \n",
        "79      5034   5131      97     4588   4514       0     2616   2550       0   \n",
        "82      1141   1086       0     1406   1350       0     1393   1385       0   \n",
        "83      1589   1889     300     1757   2045     288     1689   1827     138   \n",
        "116     3521   3388       0     5107   5081       0     5982   5769       0   \n",
        "\n",
        "    Octstart Octend Octdiff Novstart Novend Novdiff Decstart Decend Decdiff  \\\n",
        "72      3325   3954     629     2122   2199      77     1213   1269      56   \n",
        "79      2597   2623      26     1686   1748      62      995   1024      29   \n",
        "82      1236   1213       0      886    886       0      558    582      24   \n",
        "83      2142   2115       0     1074   1151      77      726    669       0   \n",
        "116     6376   6419      43     4348   4341       0     2763   2805      42   \n",
        "\n",
        "    Janstart Janend      \n",
        "72       924    943 ...  \n",
        "79       617    609 ...  \n",
        "82       356    406 ...  \n",
        "83       444    427 ...  \n",
        "116     1919   1923 ...  \n",
        "\n",
        "[5 rows x 26 columns]"
       ]
      }
     ],
     "prompt_number": 250
    },
    {
     "cell_type": "code",
     "collapsed": false,
     "input": [
      "comingsandgoings.Juldiff = comingsandgoings.Julend - comingsandgoings.Julstart\n",
      "comingsandgoings.Augdiff = comingsandgoings.Augend - comingsandgoings.Augstart\n",
      "comingsandgoings.Sepdiff = comingsandgoings.Sepend - comingsandgoings.Sepstart\n",
      "comingsandgoings.Octdiff = comingsandgoings.Octend - comingsandgoings.Octstart\n",
      "comingsandgoings.Novdiff = comingsandgoings.Novend - comingsandgoings.Novstart\n",
      "comingsandgoings.Decdiff = comingsandgoings.Decend - comingsandgoings.Decstart\n",
      "comingsandgoings.Jandiff = comingsandgoings.Janend - comingsandgoings.Janstart\n",
      "comingsandgoings.Febdiff = comingsandgoings.Febend - comingsandgoings.Febstart\n",
      "comingsandgoings.Totdiff = comingsandgoings.Julend - comingsandgoings.Julstart \\\n",
      "                        + comingsandgoings.Augend - comingsandgoings.Augstart \\\n",
      "                        + comingsandgoings.Sepend - comingsandgoings.Sepstart \\\n",
      "                        + comingsandgoings.Octend - comingsandgoings.Octstart \\\n",
      "                        + comingsandgoings.Novend - comingsandgoings.Novstart \\\n",
      "                        + comingsandgoings.Decend - comingsandgoings.Decstart \\\n",
      "                        + comingsandgoings.Janend - comingsandgoings.Janstart \\\n",
      "                        + comingsandgoings.Febend - comingsandgoings.Febstart\n",
      "comingsandgoings.Total = comingsandgoings.Julend + comingsandgoings.Julstart \\\n",
      "                        + comingsandgoings.Augend + comingsandgoings.Augstart \\\n",
      "                        + comingsandgoings.Sepend + comingsandgoings.Sepstart \\\n",
      "                        + comingsandgoings.Octend + comingsandgoings.Octstart \\\n",
      "                        + comingsandgoings.Novend + comingsandgoings.Novstart \\\n",
      "                        + comingsandgoings.Decend + comingsandgoings.Decstart \\\n",
      "                        + comingsandgoings.Janend + comingsandgoings.Janstart \\\n",
      "                        + comingsandgoings.Febend + comingsandgoings.Febstart\n",
      "comingsandgoings[0:20]"
     ],
     "language": "python",
     "metadata": {},
     "outputs": [
      {
       "html": [
        "<div style=\"max-height:1000px;max-width:1500px;overflow:auto;\">\n",
        "<table border=\"1\" class=\"dataframe\">\n",
        "  <thead>\n",
        "    <tr style=\"text-align: right;\">\n",
        "      <th></th>\n",
        "      <th>Julstart</th>\n",
        "      <th>Julend</th>\n",
        "      <th>Juldiff</th>\n",
        "      <th>Augstart</th>\n",
        "      <th>Augend</th>\n",
        "      <th>Augdiff</th>\n",
        "      <th>Sepstart</th>\n",
        "      <th>Sepend</th>\n",
        "      <th>Sepdiff</th>\n",
        "      <th>Octstart</th>\n",
        "      <th>Octend</th>\n",
        "      <th>Octdiff</th>\n",
        "      <th>Novstart</th>\n",
        "      <th>Novend</th>\n",
        "      <th>Novdiff</th>\n",
        "      <th>Decstart</th>\n",
        "      <th>Decend</th>\n",
        "      <th>Decdiff</th>\n",
        "      <th>Janstart</th>\n",
        "      <th>Janend</th>\n",
        "      <th></th>\n",
        "    </tr>\n",
        "  </thead>\n",
        "  <tbody>\n",
        "    <tr>\n",
        "      <th>72 </th>\n",
        "      <td> 3575</td>\n",
        "      <td> 3508</td>\n",
        "      <td>  -67</td>\n",
        "      <td> 3675</td>\n",
        "      <td> 3922</td>\n",
        "      <td>  247</td>\n",
        "      <td> 3153</td>\n",
        "      <td> 3498</td>\n",
        "      <td>  345</td>\n",
        "      <td> 3325</td>\n",
        "      <td> 3954</td>\n",
        "      <td>  629</td>\n",
        "      <td> 2122</td>\n",
        "      <td> 2199</td>\n",
        "      <td>   77</td>\n",
        "      <td> 1213</td>\n",
        "      <td> 1269</td>\n",
        "      <td>   56</td>\n",
        "      <td>  924</td>\n",
        "      <td>  943</td>\n",
        "      <td>...</td>\n",
        "    </tr>\n",
        "    <tr>\n",
        "      <th>79 </th>\n",
        "      <td> 5034</td>\n",
        "      <td> 5131</td>\n",
        "      <td>   97</td>\n",
        "      <td> 4588</td>\n",
        "      <td> 4514</td>\n",
        "      <td>  -74</td>\n",
        "      <td> 2616</td>\n",
        "      <td> 2550</td>\n",
        "      <td>  -66</td>\n",
        "      <td> 2597</td>\n",
        "      <td> 2623</td>\n",
        "      <td>   26</td>\n",
        "      <td> 1686</td>\n",
        "      <td> 1748</td>\n",
        "      <td>   62</td>\n",
        "      <td>  995</td>\n",
        "      <td> 1024</td>\n",
        "      <td>   29</td>\n",
        "      <td>  617</td>\n",
        "      <td>  609</td>\n",
        "      <td>...</td>\n",
        "    </tr>\n",
        "    <tr>\n",
        "      <th>82 </th>\n",
        "      <td> 1141</td>\n",
        "      <td> 1086</td>\n",
        "      <td>  -55</td>\n",
        "      <td> 1406</td>\n",
        "      <td> 1350</td>\n",
        "      <td>  -56</td>\n",
        "      <td> 1393</td>\n",
        "      <td> 1385</td>\n",
        "      <td>   -8</td>\n",
        "      <td> 1236</td>\n",
        "      <td> 1213</td>\n",
        "      <td>  -23</td>\n",
        "      <td>  886</td>\n",
        "      <td>  886</td>\n",
        "      <td>    0</td>\n",
        "      <td>  558</td>\n",
        "      <td>  582</td>\n",
        "      <td>   24</td>\n",
        "      <td>  356</td>\n",
        "      <td>  406</td>\n",
        "      <td>...</td>\n",
        "    </tr>\n",
        "    <tr>\n",
        "      <th>83 </th>\n",
        "      <td> 1589</td>\n",
        "      <td> 1889</td>\n",
        "      <td>  300</td>\n",
        "      <td> 1757</td>\n",
        "      <td> 2045</td>\n",
        "      <td>  288</td>\n",
        "      <td> 1689</td>\n",
        "      <td> 1827</td>\n",
        "      <td>  138</td>\n",
        "      <td> 2142</td>\n",
        "      <td> 2115</td>\n",
        "      <td>  -27</td>\n",
        "      <td> 1074</td>\n",
        "      <td> 1151</td>\n",
        "      <td>   77</td>\n",
        "      <td>  726</td>\n",
        "      <td>  669</td>\n",
        "      <td>  -57</td>\n",
        "      <td>  444</td>\n",
        "      <td>  427</td>\n",
        "      <td>...</td>\n",
        "    </tr>\n",
        "    <tr>\n",
        "      <th>116</th>\n",
        "      <td> 3521</td>\n",
        "      <td> 3388</td>\n",
        "      <td> -133</td>\n",
        "      <td> 5107</td>\n",
        "      <td> 5081</td>\n",
        "      <td>  -26</td>\n",
        "      <td> 5982</td>\n",
        "      <td> 5769</td>\n",
        "      <td> -213</td>\n",
        "      <td> 6376</td>\n",
        "      <td> 6419</td>\n",
        "      <td>   43</td>\n",
        "      <td> 4348</td>\n",
        "      <td> 4341</td>\n",
        "      <td>   -7</td>\n",
        "      <td> 2763</td>\n",
        "      <td> 2805</td>\n",
        "      <td>   42</td>\n",
        "      <td> 1919</td>\n",
        "      <td> 1923</td>\n",
        "      <td>...</td>\n",
        "    </tr>\n",
        "    <tr>\n",
        "      <th>119</th>\n",
        "      <td>  117</td>\n",
        "      <td>  127</td>\n",
        "      <td>   10</td>\n",
        "      <td>  185</td>\n",
        "      <td>  195</td>\n",
        "      <td>   10</td>\n",
        "      <td>  280</td>\n",
        "      <td>  255</td>\n",
        "      <td>  -25</td>\n",
        "      <td>  269</td>\n",
        "      <td>  247</td>\n",
        "      <td>  -22</td>\n",
        "      <td>  152</td>\n",
        "      <td>  149</td>\n",
        "      <td>   -3</td>\n",
        "      <td>  113</td>\n",
        "      <td>  113</td>\n",
        "      <td>    0</td>\n",
        "      <td>   92</td>\n",
        "      <td>   87</td>\n",
        "      <td>...</td>\n",
        "    </tr>\n",
        "    <tr>\n",
        "      <th>120</th>\n",
        "      <td>  651</td>\n",
        "      <td>  709</td>\n",
        "      <td>   58</td>\n",
        "      <td>  577</td>\n",
        "      <td>  606</td>\n",
        "      <td>   29</td>\n",
        "      <td>  551</td>\n",
        "      <td>  543</td>\n",
        "      <td>   -8</td>\n",
        "      <td>  539</td>\n",
        "      <td>  552</td>\n",
        "      <td>   13</td>\n",
        "      <td>  411</td>\n",
        "      <td>  398</td>\n",
        "      <td>  -13</td>\n",
        "      <td>  270</td>\n",
        "      <td>  262</td>\n",
        "      <td>   -8</td>\n",
        "      <td>  152</td>\n",
        "      <td>  128</td>\n",
        "      <td>...</td>\n",
        "    </tr>\n",
        "    <tr>\n",
        "      <th>127</th>\n",
        "      <td> 4488</td>\n",
        "      <td> 4244</td>\n",
        "      <td> -244</td>\n",
        "      <td> 5392</td>\n",
        "      <td> 5355</td>\n",
        "      <td>  -37</td>\n",
        "      <td> 5564</td>\n",
        "      <td> 5788</td>\n",
        "      <td>  224</td>\n",
        "      <td> 5867</td>\n",
        "      <td> 6170</td>\n",
        "      <td>  303</td>\n",
        "      <td> 3805</td>\n",
        "      <td> 3910</td>\n",
        "      <td>  105</td>\n",
        "      <td> 2292</td>\n",
        "      <td> 2377</td>\n",
        "      <td>   85</td>\n",
        "      <td> 1435</td>\n",
        "      <td> 1530</td>\n",
        "      <td>...</td>\n",
        "    </tr>\n",
        "    <tr>\n",
        "      <th>128</th>\n",
        "      <td> 4638</td>\n",
        "      <td> 4770</td>\n",
        "      <td>  132</td>\n",
        "      <td> 5456</td>\n",
        "      <td> 5557</td>\n",
        "      <td>  101</td>\n",
        "      <td> 5958</td>\n",
        "      <td> 6057</td>\n",
        "      <td>   99</td>\n",
        "      <td> 6213</td>\n",
        "      <td> 6233</td>\n",
        "      <td>   20</td>\n",
        "      <td> 4081</td>\n",
        "      <td> 4088</td>\n",
        "      <td>    7</td>\n",
        "      <td> 2490</td>\n",
        "      <td> 2575</td>\n",
        "      <td>   85</td>\n",
        "      <td> 1619</td>\n",
        "      <td> 1726</td>\n",
        "      <td>...</td>\n",
        "    </tr>\n",
        "    <tr>\n",
        "      <th>137</th>\n",
        "      <td>  647</td>\n",
        "      <td>  712</td>\n",
        "      <td>   65</td>\n",
        "      <td> 2070</td>\n",
        "      <td> 2229</td>\n",
        "      <td>  159</td>\n",
        "      <td> 2185</td>\n",
        "      <td> 2425</td>\n",
        "      <td>  240</td>\n",
        "      <td> 2385</td>\n",
        "      <td> 2613</td>\n",
        "      <td>  228</td>\n",
        "      <td> 1690</td>\n",
        "      <td> 1787</td>\n",
        "      <td>   97</td>\n",
        "      <td> 1208</td>\n",
        "      <td> 1260</td>\n",
        "      <td>   52</td>\n",
        "      <td>  856</td>\n",
        "      <td>  892</td>\n",
        "      <td>...</td>\n",
        "    </tr>\n",
        "    <tr>\n",
        "      <th>143</th>\n",
        "      <td>  916</td>\n",
        "      <td>  912</td>\n",
        "      <td>   -4</td>\n",
        "      <td> 1020</td>\n",
        "      <td> 1147</td>\n",
        "      <td>  127</td>\n",
        "      <td> 1022</td>\n",
        "      <td> 1049</td>\n",
        "      <td>   27</td>\n",
        "      <td> 1023</td>\n",
        "      <td> 1010</td>\n",
        "      <td>  -13</td>\n",
        "      <td>  599</td>\n",
        "      <td>  595</td>\n",
        "      <td>   -4</td>\n",
        "      <td>  401</td>\n",
        "      <td>  383</td>\n",
        "      <td>  -18</td>\n",
        "      <td>  277</td>\n",
        "      <td>  268</td>\n",
        "      <td>...</td>\n",
        "    </tr>\n",
        "    <tr>\n",
        "      <th>144</th>\n",
        "      <td>  417</td>\n",
        "      <td>  370</td>\n",
        "      <td>  -47</td>\n",
        "      <td>  649</td>\n",
        "      <td>  611</td>\n",
        "      <td>  -38</td>\n",
        "      <td>  531</td>\n",
        "      <td>  446</td>\n",
        "      <td>  -85</td>\n",
        "      <td>  498</td>\n",
        "      <td>  504</td>\n",
        "      <td>    6</td>\n",
        "      <td>  221</td>\n",
        "      <td>  198</td>\n",
        "      <td>  -23</td>\n",
        "      <td>  104</td>\n",
        "      <td>  125</td>\n",
        "      <td>   21</td>\n",
        "      <td>   93</td>\n",
        "      <td>   90</td>\n",
        "      <td>...</td>\n",
        "    </tr>\n",
        "    <tr>\n",
        "      <th>146</th>\n",
        "      <td> 2368</td>\n",
        "      <td> 2153</td>\n",
        "      <td> -215</td>\n",
        "      <td> 2910</td>\n",
        "      <td> 2706</td>\n",
        "      <td> -204</td>\n",
        "      <td> 2885</td>\n",
        "      <td> 2695</td>\n",
        "      <td> -190</td>\n",
        "      <td> 2542</td>\n",
        "      <td> 2657</td>\n",
        "      <td>  115</td>\n",
        "      <td> 1539</td>\n",
        "      <td> 1560</td>\n",
        "      <td>   21</td>\n",
        "      <td> 1009</td>\n",
        "      <td>  971</td>\n",
        "      <td>  -38</td>\n",
        "      <td>  681</td>\n",
        "      <td>  686</td>\n",
        "      <td>...</td>\n",
        "    </tr>\n",
        "    <tr>\n",
        "      <th>147</th>\n",
        "      <td> 4012</td>\n",
        "      <td> 4222</td>\n",
        "      <td>  210</td>\n",
        "      <td> 4728</td>\n",
        "      <td> 4976</td>\n",
        "      <td>  248</td>\n",
        "      <td> 5361</td>\n",
        "      <td> 5563</td>\n",
        "      <td>  202</td>\n",
        "      <td> 4950</td>\n",
        "      <td> 5093</td>\n",
        "      <td>  143</td>\n",
        "      <td> 2853</td>\n",
        "      <td> 2963</td>\n",
        "      <td>  110</td>\n",
        "      <td> 1719</td>\n",
        "      <td> 1805</td>\n",
        "      <td>   86</td>\n",
        "      <td> 1143</td>\n",
        "      <td> 1158</td>\n",
        "      <td>...</td>\n",
        "    </tr>\n",
        "    <tr>\n",
        "      <th>150</th>\n",
        "      <td> 1604</td>\n",
        "      <td> 1733</td>\n",
        "      <td>  129</td>\n",
        "      <td> 1743</td>\n",
        "      <td> 1822</td>\n",
        "      <td>   79</td>\n",
        "      <td> 2041</td>\n",
        "      <td> 2018</td>\n",
        "      <td>  -23</td>\n",
        "      <td> 1991</td>\n",
        "      <td> 2074</td>\n",
        "      <td>   83</td>\n",
        "      <td> 1505</td>\n",
        "      <td> 1401</td>\n",
        "      <td> -104</td>\n",
        "      <td> 1097</td>\n",
        "      <td> 1081</td>\n",
        "      <td>  -16</td>\n",
        "      <td>  762</td>\n",
        "      <td>  716</td>\n",
        "      <td>...</td>\n",
        "    </tr>\n",
        "    <tr>\n",
        "      <th>151</th>\n",
        "      <td> 5655</td>\n",
        "      <td> 5778</td>\n",
        "      <td>  123</td>\n",
        "      <td> 7417</td>\n",
        "      <td> 7443</td>\n",
        "      <td>   26</td>\n",
        "      <td> 7592</td>\n",
        "      <td> 7559</td>\n",
        "      <td>  -33</td>\n",
        "      <td> 7617</td>\n",
        "      <td> 7646</td>\n",
        "      <td>   29</td>\n",
        "      <td> 5028</td>\n",
        "      <td> 5019</td>\n",
        "      <td>   -9</td>\n",
        "      <td> 3222</td>\n",
        "      <td> 3308</td>\n",
        "      <td>   86</td>\n",
        "      <td> 1984</td>\n",
        "      <td> 2006</td>\n",
        "      <td>...</td>\n",
        "    </tr>\n",
        "    <tr>\n",
        "      <th>152</th>\n",
        "      <td> 2654</td>\n",
        "      <td> 2655</td>\n",
        "      <td>    1</td>\n",
        "      <td> 3008</td>\n",
        "      <td> 3066</td>\n",
        "      <td>   58</td>\n",
        "      <td> 3304</td>\n",
        "      <td> 3349</td>\n",
        "      <td>   45</td>\n",
        "      <td> 3363</td>\n",
        "      <td> 3409</td>\n",
        "      <td>   46</td>\n",
        "      <td> 1879</td>\n",
        "      <td> 1978</td>\n",
        "      <td>   99</td>\n",
        "      <td> 1000</td>\n",
        "      <td> 1220</td>\n",
        "      <td>  220</td>\n",
        "      <td>  562</td>\n",
        "      <td>  724</td>\n",
        "      <td>...</td>\n",
        "    </tr>\n",
        "    <tr>\n",
        "      <th>153</th>\n",
        "      <td> 3050</td>\n",
        "      <td> 3025</td>\n",
        "      <td>  -25</td>\n",
        "      <td> 4107</td>\n",
        "      <td> 4050</td>\n",
        "      <td>  -57</td>\n",
        "      <td> 4291</td>\n",
        "      <td> 4260</td>\n",
        "      <td>  -31</td>\n",
        "      <td> 4282</td>\n",
        "      <td> 3984</td>\n",
        "      <td> -298</td>\n",
        "      <td> 3130</td>\n",
        "      <td> 2941</td>\n",
        "      <td> -189</td>\n",
        "      <td> 2366</td>\n",
        "      <td> 2195</td>\n",
        "      <td> -171</td>\n",
        "      <td> 1506</td>\n",
        "      <td> 1416</td>\n",
        "      <td>...</td>\n",
        "    </tr>\n",
        "    <tr>\n",
        "      <th>157</th>\n",
        "      <td> 1676</td>\n",
        "      <td> 1780</td>\n",
        "      <td>  104</td>\n",
        "      <td> 1868</td>\n",
        "      <td> 1995</td>\n",
        "      <td>  127</td>\n",
        "      <td> 1824</td>\n",
        "      <td> 2067</td>\n",
        "      <td>  243</td>\n",
        "      <td> 1646</td>\n",
        "      <td> 1661</td>\n",
        "      <td>   15</td>\n",
        "      <td> 1006</td>\n",
        "      <td> 1009</td>\n",
        "      <td>    3</td>\n",
        "      <td>  654</td>\n",
        "      <td>  657</td>\n",
        "      <td>    3</td>\n",
        "      <td>  477</td>\n",
        "      <td>  482</td>\n",
        "      <td>...</td>\n",
        "    </tr>\n",
        "    <tr>\n",
        "      <th>160</th>\n",
        "      <td> 1701</td>\n",
        "      <td> 1623</td>\n",
        "      <td>  -78</td>\n",
        "      <td> 2243</td>\n",
        "      <td> 2157</td>\n",
        "      <td>  -86</td>\n",
        "      <td> 2370</td>\n",
        "      <td> 2299</td>\n",
        "      <td>  -71</td>\n",
        "      <td> 2211</td>\n",
        "      <td> 2286</td>\n",
        "      <td>   75</td>\n",
        "      <td> 1692</td>\n",
        "      <td> 1644</td>\n",
        "      <td>  -48</td>\n",
        "      <td> 1239</td>\n",
        "      <td> 1182</td>\n",
        "      <td>  -57</td>\n",
        "      <td>  852</td>\n",
        "      <td>  848</td>\n",
        "      <td>...</td>\n",
        "    </tr>\n",
        "  </tbody>\n",
        "</table>\n",
        "<p>20 rows \u00d7 26 columns</p>\n",
        "</div>"
       ],
       "metadata": {},
       "output_type": "pyout",
       "prompt_number": 259,
       "text": [
        "    Julstart Julend Juldiff Augstart Augend Augdiff Sepstart Sepend Sepdiff  \\\n",
        "72      3575   3508     -67     3675   3922     247     3153   3498     345   \n",
        "79      5034   5131      97     4588   4514     -74     2616   2550     -66   \n",
        "82      1141   1086     -55     1406   1350     -56     1393   1385      -8   \n",
        "83      1589   1889     300     1757   2045     288     1689   1827     138   \n",
        "116     3521   3388    -133     5107   5081     -26     5982   5769    -213   \n",
        "119      117    127      10      185    195      10      280    255     -25   \n",
        "120      651    709      58      577    606      29      551    543      -8   \n",
        "127     4488   4244    -244     5392   5355     -37     5564   5788     224   \n",
        "128     4638   4770     132     5456   5557     101     5958   6057      99   \n",
        "137      647    712      65     2070   2229     159     2185   2425     240   \n",
        "143      916    912      -4     1020   1147     127     1022   1049      27   \n",
        "144      417    370     -47      649    611     -38      531    446     -85   \n",
        "146     2368   2153    -215     2910   2706    -204     2885   2695    -190   \n",
        "147     4012   4222     210     4728   4976     248     5361   5563     202   \n",
        "150     1604   1733     129     1743   1822      79     2041   2018     -23   \n",
        "151     5655   5778     123     7417   7443      26     7592   7559     -33   \n",
        "152     2654   2655       1     3008   3066      58     3304   3349      45   \n",
        "153     3050   3025     -25     4107   4050     -57     4291   4260     -31   \n",
        "157     1676   1780     104     1868   1995     127     1824   2067     243   \n",
        "160     1701   1623     -78     2243   2157     -86     2370   2299     -71   \n",
        "\n",
        "    Octstart Octend Octdiff Novstart Novend Novdiff Decstart Decend Decdiff  \\\n",
        "72      3325   3954     629     2122   2199      77     1213   1269      56   \n",
        "79      2597   2623      26     1686   1748      62      995   1024      29   \n",
        "82      1236   1213     -23      886    886       0      558    582      24   \n",
        "83      2142   2115     -27     1074   1151      77      726    669     -57   \n",
        "116     6376   6419      43     4348   4341      -7     2763   2805      42   \n",
        "119      269    247     -22      152    149      -3      113    113       0   \n",
        "120      539    552      13      411    398     -13      270    262      -8   \n",
        "127     5867   6170     303     3805   3910     105     2292   2377      85   \n",
        "128     6213   6233      20     4081   4088       7     2490   2575      85   \n",
        "137     2385   2613     228     1690   1787      97     1208   1260      52   \n",
        "143     1023   1010     -13      599    595      -4      401    383     -18   \n",
        "144      498    504       6      221    198     -23      104    125      21   \n",
        "146     2542   2657     115     1539   1560      21     1009    971     -38   \n",
        "147     4950   5093     143     2853   2963     110     1719   1805      86   \n",
        "150     1991   2074      83     1505   1401    -104     1097   1081     -16   \n",
        "151     7617   7646      29     5028   5019      -9     3222   3308      86   \n",
        "152     3363   3409      46     1879   1978      99     1000   1220     220   \n",
        "153     4282   3984    -298     3130   2941    -189     2366   2195    -171   \n",
        "157     1646   1661      15     1006   1009       3      654    657       3   \n",
        "160     2211   2286      75     1692   1644     -48     1239   1182     -57   \n",
        "\n",
        "    Janstart Janend      \n",
        "72       924    943 ...  \n",
        "79       617    609 ...  \n",
        "82       356    406 ...  \n",
        "83       444    427 ...  \n",
        "116     1919   1923 ...  \n",
        "119       92     87 ...  \n",
        "120      152    128 ...  \n",
        "127     1435   1530 ...  \n",
        "128     1619   1726 ...  \n",
        "137      856    892 ...  \n",
        "143      277    268 ...  \n",
        "144       93     90 ...  \n",
        "146      681    686 ...  \n",
        "147     1143   1158 ...  \n",
        "150      762    716 ...  \n",
        "151     1984   2006 ...  \n",
        "152      562    724 ...  \n",
        "153     1506   1416 ...  \n",
        "157      477    482 ...  \n",
        "160      852    848 ...  \n",
        "\n",
        "[20 rows x 26 columns]"
       ]
      }
     ],
     "prompt_number": 259
    },
    {
     "cell_type": "code",
     "collapsed": false,
     "input": [
      "#CREATED NEWER comingsandgoings IN NEWER IPYTHON NOTEBOOK.\n",
      "#comingsandgoings.to_csv('bikedata/comingsandgoings.csv')"
     ],
     "language": "python",
     "metadata": {},
     "outputs": [],
     "prompt_number": 260
    },
    {
     "cell_type": "raw",
     "metadata": {},
     "source": [
      "Writing csv file with comings and goings so it can be inexpensively read into memory without regenerating it from the large data files."
     ]
    },
    {
     "cell_type": "code",
     "collapsed": false,
     "input": [
      "# RUN THESE ONLY AFTER ALTERING THE MONTHLY DATA FRAMES\n",
      "bikedata0713.to_csv('bikedata/bikedata0713.csv')\n",
      "bikedata0813.to_csv('bikedata/bikedata0813.csv')\n",
      "bikedata0913.to_csv('bikedata/bikedata0913.csv')\n",
      "bikedata1013.to_csv('bikedata/bikedata1013.csv')\n",
      "bikedata1113.to_csv('bikedata/bikedata1113.csv')\n",
      "bikedata1213.to_csv('bikedata/bikedata1213.csv')\n",
      "bikedata0114.to_csv('bikedata/bikedata0114.csv')\n",
      "bikedata0214.to_csv('bikedata/bikedata0214.csv')"
     ],
     "language": "python",
     "metadata": {},
     "outputs": [],
     "prompt_number": 262
    },
    {
     "cell_type": "raw",
     "metadata": {},
     "source": [
      "To create countsmatrices for all stations:\n",
      "\n",
      "Create dictionary including all station id's.\n",
      "Stringify station id's for inclusion in matrix names.\n",
      "Automate creation of matrices using id list.\n",
      "Send stringified names to csv for easier storage/access.\n",
      "Automatically delete from memory whatever is no longer needed?\n",
      "\n",
      "This can be followed by programs that read the countsmatrices as csv files in order to do things with them."
     ]
    },
    {
     "cell_type": "code",
     "collapsed": false,
     "input": [
      "startmatrix519, endmatrix519, totmatrix519 = fullstation(519, bikedata2wks)"
     ],
     "language": "python",
     "metadata": {},
     "outputs": []
    },
    {
     "cell_type": "code",
     "collapsed": false,
     "input": [
      "bikedata2wks = pd.read_csv('Bikedata/bikedata2wks.csv', index_col=0)"
     ],
     "language": "python",
     "metadata": {},
     "outputs": []
    }
   ],
   "metadata": {}
  }
 ]
}